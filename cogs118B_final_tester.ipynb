{
 "cells": [
  {
   "cell_type": "code",
   "execution_count": 1,
   "id": "6a340a3a",
   "metadata": {},
   "outputs": [],
   "source": [
    "import zipfile\n",
    "zipfile.ZipFile('data_files.zip').extractall()"
   ]
  },
  {
   "cell_type": "code",
   "execution_count": 2,
   "id": "5d0528fc",
   "metadata": {},
   "outputs": [],
   "source": [
    "import imageio as iio\n",
    "import matplotlib.pyplot as plt\n",
    "import matplotlib.image as mping\n",
    "import os\n",
    "import pandas as pd\n",
    "import numpy as np\n",
    "import random\n",
    "\n",
    "\n",
    "directory = \"poke_photos/\"\n",
    "pokemon_names = []\n",
    "pokemon_photos = []\n",
    "# pil = []"
   ]
  },
  {
   "cell_type": "code",
   "execution_count": 3,
   "id": "c0891d6b",
   "metadata": {},
   "outputs": [],
   "source": [
    "# for filename in os.listdir(directory):\n",
    "#     # Stores names of each pokemon\n",
    "#     name = os.path.splitext(filename)[0]\n",
    "#     pokemon_names.append(name)\n",
    "#     # Stores the images of each pokemon - matrix representation\n",
    "#     im = iio.imread(directory + filename)\n",
    "#     im = im.resize((120,120))\n",
    "#     pokemon_photos.append(im)"
   ]
  },
  {
   "cell_type": "code",
   "execution_count": 4,
   "id": "6b4f79c3",
   "metadata": {},
   "outputs": [],
   "source": [
    "for filename in os.listdir(directory):\n",
    "    # Stores names of each pokemon\n",
    "    name = os.path.splitext(filename)[0]\n",
    "    pokemon_names.append(name)\n",
    "    # Stores the images of each pokemon - matrix representation\n",
    "    im = mping.imread(directory + filename)\n",
    "\n",
    "    pokemon_photos.append(im)"
   ]
  },
  {
   "cell_type": "code",
   "execution_count": 5,
   "id": "744fb2de",
   "metadata": {},
   "outputs": [
    {
     "data": {
      "text/plain": [
       "<matplotlib.image.AxesImage at 0x7feb938477f0>"
      ]
     },
     "execution_count": 5,
     "metadata": {},
     "output_type": "execute_result"
    },
    {
     "data": {
      "image/png": "[encoded data removed]",
      "text/plain": [
       "<Figure size 432x288 with 1 Axes>"
      ]
     },
     "metadata": {
      "needs_background": "light"
     },
     "output_type": "display_data"
    }
   ],
   "source": [
    "plt.imshow(pokemon_photos[0])"
   ]
  },
  {
   "cell_type": "code",
   "execution_count": 6,
   "id": "a5e16b5c",
   "metadata": {},
   "outputs": [
    {
     "data": {
      "text/html": [
       "<div>\n",
       "<style scoped>\n",
       "    .dataframe tbody tr th:only-of-type {\n",
       "        vertical-align: middle;\n",
       "    }\n",
       "\n",
       "    .dataframe tbody tr th {\n",
       "        vertical-align: top;\n",
       "    }\n",
       "\n",
       "    .dataframe thead th {\n",
       "        text-align: right;\n",
       "    }\n",
       "</style>\n",
       "<table border=\"1\" class=\"dataframe\">\n",
       "  <thead>\n",
       "    <tr style=\"text-align: right;\">\n",
       "      <th></th>\n",
       "      <th>Name</th>\n",
       "      <th>Image_Mat</th>\n",
       "    </tr>\n",
       "  </thead>\n",
       "  <tbody>\n",
       "    <tr>\n",
       "      <th>0</th>\n",
       "      <td>abomasnow</td>\n",
       "      <td>[[[0.0, 0.0, 0.0, 0.0], [0.0, 0.0, 0.0, 0.0], ...</td>\n",
       "    </tr>\n",
       "    <tr>\n",
       "      <th>1</th>\n",
       "      <td>abra</td>\n",
       "      <td>[[[0.0, 0.0, 0.0, 0.0], [0.0, 0.0, 0.0, 0.0], ...</td>\n",
       "    </tr>\n",
       "    <tr>\n",
       "      <th>2</th>\n",
       "      <td>absol</td>\n",
       "      <td>[[[0.0, 0.0, 0.0, 0.0], [0.0, 0.0, 0.0, 0.0], ...</td>\n",
       "    </tr>\n",
       "    <tr>\n",
       "      <th>3</th>\n",
       "      <td>accelgor</td>\n",
       "      <td>[[[0.0, 0.0, 0.0, 0.0], [0.0, 0.0, 0.0, 0.0], ...</td>\n",
       "    </tr>\n",
       "    <tr>\n",
       "      <th>4</th>\n",
       "      <td>aegislash-blade</td>\n",
       "      <td>[[[0.0, 0.0, 0.0, 0.0], [0.0, 0.0, 0.0, 0.0], ...</td>\n",
       "    </tr>\n",
       "    <tr>\n",
       "      <th>...</th>\n",
       "      <td>...</td>\n",
       "      <td>...</td>\n",
       "    </tr>\n",
       "    <tr>\n",
       "      <th>804</th>\n",
       "      <td>zoroark</td>\n",
       "      <td>[[[0.0, 0.0, 0.0, 0.0], [0.0, 0.0, 0.0, 0.0], ...</td>\n",
       "    </tr>\n",
       "    <tr>\n",
       "      <th>805</th>\n",
       "      <td>zorua</td>\n",
       "      <td>[[[0.0, 0.0, 0.0, 0.0], [0.0, 0.0, 0.0, 0.0], ...</td>\n",
       "    </tr>\n",
       "    <tr>\n",
       "      <th>806</th>\n",
       "      <td>zubat</td>\n",
       "      <td>[[[0.0, 0.0, 0.0, 0.0], [0.0, 0.0, 0.0, 0.0], ...</td>\n",
       "    </tr>\n",
       "    <tr>\n",
       "      <th>807</th>\n",
       "      <td>zweilous</td>\n",
       "      <td>[[[0.0, 0.0, 0.0, 0.0], [0.0, 0.0, 0.0, 0.0], ...</td>\n",
       "    </tr>\n",
       "    <tr>\n",
       "      <th>808</th>\n",
       "      <td>zygarde-50</td>\n",
       "      <td>[[[0.0, 0.0, 0.0, 0.0], [0.0, 0.0, 0.0, 0.0], ...</td>\n",
       "    </tr>\n",
       "  </tbody>\n",
       "</table>\n",
       "<p>809 rows × 2 columns</p>\n",
       "</div>"
      ],
      "text/plain": [
       "                Name                                          Image_Mat\n",
       "0          abomasnow  [[[0.0, 0.0, 0.0, 0.0], [0.0, 0.0, 0.0, 0.0], ...\n",
       "1               abra  [[[0.0, 0.0, 0.0, 0.0], [0.0, 0.0, 0.0, 0.0], ...\n",
       "2              absol  [[[0.0, 0.0, 0.0, 0.0], [0.0, 0.0, 0.0, 0.0], ...\n",
       "3           accelgor  [[[0.0, 0.0, 0.0, 0.0], [0.0, 0.0, 0.0, 0.0], ...\n",
       "4    aegislash-blade  [[[0.0, 0.0, 0.0, 0.0], [0.0, 0.0, 0.0, 0.0], ...\n",
       "..               ...                                                ...\n",
       "804          zoroark  [[[0.0, 0.0, 0.0, 0.0], [0.0, 0.0, 0.0, 0.0], ...\n",
       "805            zorua  [[[0.0, 0.0, 0.0, 0.0], [0.0, 0.0, 0.0, 0.0], ...\n",
       "806            zubat  [[[0.0, 0.0, 0.0, 0.0], [0.0, 0.0, 0.0, 0.0], ...\n",
       "807         zweilous  [[[0.0, 0.0, 0.0, 0.0], [0.0, 0.0, 0.0, 0.0], ...\n",
       "808       zygarde-50  [[[0.0, 0.0, 0.0, 0.0], [0.0, 0.0, 0.0, 0.0], ...\n",
       "\n",
       "[809 rows x 2 columns]"
      ]
     },
     "execution_count": 6,
     "metadata": {},
     "output_type": "execute_result"
    }
   ],
   "source": [
    "# Data Frame with corresponding names and image matrix\n",
    "images = pd.DataFrame(columns = ('Name', 'Image_Mat'))\n",
    "images['Name'] = pokemon_names\n",
    "images['Image_Mat'] = pokemon_photos\n",
    "# images['PIL'] = pil\n",
    "\n",
    "# Sort based on names and reset index\n",
    "images = images.sort_values(\"Name\", ascending = True).reset_index(drop = True)\n",
    "images"
   ]
  },
  {
   "cell_type": "code",
   "execution_count": 7,
   "id": "104288c6",
   "metadata": {},
   "outputs": [
    {
     "data": {
      "text/html": [
       "<div>\n",
       "<style scoped>\n",
       "    .dataframe tbody tr th:only-of-type {\n",
       "        vertical-align: middle;\n",
       "    }\n",
       "\n",
       "    .dataframe tbody tr th {\n",
       "        vertical-align: top;\n",
       "    }\n",
       "\n",
       "    .dataframe thead th {\n",
       "        text-align: right;\n",
       "    }\n",
       "</style>\n",
       "<table border=\"1\" class=\"dataframe\">\n",
       "  <thead>\n",
       "    <tr style=\"text-align: right;\">\n",
       "      <th></th>\n",
       "      <th>Name</th>\n",
       "      <th>Type1</th>\n",
       "      <th>Type2</th>\n",
       "    </tr>\n",
       "  </thead>\n",
       "  <tbody>\n",
       "    <tr>\n",
       "      <th>0</th>\n",
       "      <td>abomasnow</td>\n",
       "      <td>Grass</td>\n",
       "      <td>Ice</td>\n",
       "    </tr>\n",
       "    <tr>\n",
       "      <th>1</th>\n",
       "      <td>abra</td>\n",
       "      <td>Psychic</td>\n",
       "      <td>NaN</td>\n",
       "    </tr>\n",
       "    <tr>\n",
       "      <th>2</th>\n",
       "      <td>absol</td>\n",
       "      <td>Dark</td>\n",
       "      <td>NaN</td>\n",
       "    </tr>\n",
       "    <tr>\n",
       "      <th>3</th>\n",
       "      <td>accelgor</td>\n",
       "      <td>Bug</td>\n",
       "      <td>NaN</td>\n",
       "    </tr>\n",
       "    <tr>\n",
       "      <th>4</th>\n",
       "      <td>aegislash-blade</td>\n",
       "      <td>Steel</td>\n",
       "      <td>Ghost</td>\n",
       "    </tr>\n",
       "    <tr>\n",
       "      <th>...</th>\n",
       "      <td>...</td>\n",
       "      <td>...</td>\n",
       "      <td>...</td>\n",
       "    </tr>\n",
       "    <tr>\n",
       "      <th>804</th>\n",
       "      <td>zoroark</td>\n",
       "      <td>Dark</td>\n",
       "      <td>NaN</td>\n",
       "    </tr>\n",
       "    <tr>\n",
       "      <th>805</th>\n",
       "      <td>zorua</td>\n",
       "      <td>Dark</td>\n",
       "      <td>NaN</td>\n",
       "    </tr>\n",
       "    <tr>\n",
       "      <th>806</th>\n",
       "      <td>zubat</td>\n",
       "      <td>Poison</td>\n",
       "      <td>Flying</td>\n",
       "    </tr>\n",
       "    <tr>\n",
       "      <th>807</th>\n",
       "      <td>zweilous</td>\n",
       "      <td>Dark</td>\n",
       "      <td>Dragon</td>\n",
       "    </tr>\n",
       "    <tr>\n",
       "      <th>808</th>\n",
       "      <td>zygarde-50</td>\n",
       "      <td>Dragon</td>\n",
       "      <td>Ground</td>\n",
       "    </tr>\n",
       "  </tbody>\n",
       "</table>\n",
       "<p>809 rows × 3 columns</p>\n",
       "</div>"
      ],
      "text/plain": [
       "                Name    Type1   Type2\n",
       "0          abomasnow    Grass     Ice\n",
       "1               abra  Psychic     NaN\n",
       "2              absol     Dark     NaN\n",
       "3           accelgor      Bug     NaN\n",
       "4    aegislash-blade    Steel   Ghost\n",
       "..               ...      ...     ...\n",
       "804          zoroark     Dark     NaN\n",
       "805            zorua     Dark     NaN\n",
       "806            zubat   Poison  Flying\n",
       "807         zweilous     Dark  Dragon\n",
       "808       zygarde-50   Dragon  Ground\n",
       "\n",
       "[809 rows x 3 columns]"
      ]
     },
     "execution_count": 7,
     "metadata": {},
     "output_type": "execute_result"
    }
   ],
   "source": [
    "# Pokemon info data set\n",
    "pokemon_data = pd.read_csv('pokemon_to_photos.csv')\n",
    "pokemon_data = pokemon_data.sort_values(\"Name\", ascending = True).reset_index(drop = True)\n",
    "\n",
    "pokemon_data"
   ]
  },
  {
   "cell_type": "code",
   "execution_count": 8,
   "id": "bfa765f4",
   "metadata": {},
   "outputs": [
    {
     "data": {
      "text/html": [
       "<div>\n",
       "<style scoped>\n",
       "    .dataframe tbody tr th:only-of-type {\n",
       "        vertical-align: middle;\n",
       "    }\n",
       "\n",
       "    .dataframe tbody tr th {\n",
       "        vertical-align: top;\n",
       "    }\n",
       "\n",
       "    .dataframe thead th {\n",
       "        text-align: right;\n",
       "    }\n",
       "</style>\n",
       "<table border=\"1\" class=\"dataframe\">\n",
       "  <thead>\n",
       "    <tr style=\"text-align: right;\">\n",
       "      <th></th>\n",
       "      <th>Name</th>\n",
       "      <th>Type1</th>\n",
       "      <th>Type2</th>\n",
       "      <th>Image_Mat</th>\n",
       "    </tr>\n",
       "  </thead>\n",
       "  <tbody>\n",
       "    <tr>\n",
       "      <th>0</th>\n",
       "      <td>abomasnow</td>\n",
       "      <td>Grass</td>\n",
       "      <td>Ice</td>\n",
       "      <td>[[[0.0, 0.0, 0.0, 0.0], [0.0, 0.0, 0.0, 0.0], ...</td>\n",
       "    </tr>\n",
       "    <tr>\n",
       "      <th>1</th>\n",
       "      <td>abra</td>\n",
       "      <td>Psychic</td>\n",
       "      <td>NaN</td>\n",
       "      <td>[[[0.0, 0.0, 0.0, 0.0], [0.0, 0.0, 0.0, 0.0], ...</td>\n",
       "    </tr>\n",
       "    <tr>\n",
       "      <th>2</th>\n",
       "      <td>absol</td>\n",
       "      <td>Dark</td>\n",
       "      <td>NaN</td>\n",
       "      <td>[[[0.0, 0.0, 0.0, 0.0], [0.0, 0.0, 0.0, 0.0], ...</td>\n",
       "    </tr>\n",
       "    <tr>\n",
       "      <th>3</th>\n",
       "      <td>accelgor</td>\n",
       "      <td>Bug</td>\n",
       "      <td>NaN</td>\n",
       "      <td>[[[0.0, 0.0, 0.0, 0.0], [0.0, 0.0, 0.0, 0.0], ...</td>\n",
       "    </tr>\n",
       "    <tr>\n",
       "      <th>4</th>\n",
       "      <td>aegislash-blade</td>\n",
       "      <td>Steel</td>\n",
       "      <td>Ghost</td>\n",
       "      <td>[[[0.0, 0.0, 0.0, 0.0], [0.0, 0.0, 0.0, 0.0], ...</td>\n",
       "    </tr>\n",
       "    <tr>\n",
       "      <th>...</th>\n",
       "      <td>...</td>\n",
       "      <td>...</td>\n",
       "      <td>...</td>\n",
       "      <td>...</td>\n",
       "    </tr>\n",
       "    <tr>\n",
       "      <th>804</th>\n",
       "      <td>zoroark</td>\n",
       "      <td>Dark</td>\n",
       "      <td>NaN</td>\n",
       "      <td>[[[0.0, 0.0, 0.0, 0.0], [0.0, 0.0, 0.0, 0.0], ...</td>\n",
       "    </tr>\n",
       "    <tr>\n",
       "      <th>805</th>\n",
       "      <td>zorua</td>\n",
       "      <td>Dark</td>\n",
       "      <td>NaN</td>\n",
       "      <td>[[[0.0, 0.0, 0.0, 0.0], [0.0, 0.0, 0.0, 0.0], ...</td>\n",
       "    </tr>\n",
       "    <tr>\n",
       "      <th>806</th>\n",
       "      <td>zubat</td>\n",
       "      <td>Poison</td>\n",
       "      <td>Flying</td>\n",
       "      <td>[[[0.0, 0.0, 0.0, 0.0], [0.0, 0.0, 0.0, 0.0], ...</td>\n",
       "    </tr>\n",
       "    <tr>\n",
       "      <th>807</th>\n",
       "      <td>zweilous</td>\n",
       "      <td>Dark</td>\n",
       "      <td>Dragon</td>\n",
       "      <td>[[[0.0, 0.0, 0.0, 0.0], [0.0, 0.0, 0.0, 0.0], ...</td>\n",
       "    </tr>\n",
       "    <tr>\n",
       "      <th>808</th>\n",
       "      <td>zygarde-50</td>\n",
       "      <td>Dragon</td>\n",
       "      <td>Ground</td>\n",
       "      <td>[[[0.0, 0.0, 0.0, 0.0], [0.0, 0.0, 0.0, 0.0], ...</td>\n",
       "    </tr>\n",
       "  </tbody>\n",
       "</table>\n",
       "<p>809 rows × 4 columns</p>\n",
       "</div>"
      ],
      "text/plain": [
       "                Name    Type1   Type2  \\\n",
       "0          abomasnow    Grass     Ice   \n",
       "1               abra  Psychic     NaN   \n",
       "2              absol     Dark     NaN   \n",
       "3           accelgor      Bug     NaN   \n",
       "4    aegislash-blade    Steel   Ghost   \n",
       "..               ...      ...     ...   \n",
       "804          zoroark     Dark     NaN   \n",
       "805            zorua     Dark     NaN   \n",
       "806            zubat   Poison  Flying   \n",
       "807         zweilous     Dark  Dragon   \n",
       "808       zygarde-50   Dragon  Ground   \n",
       "\n",
       "                                             Image_Mat  \n",
       "0    [[[0.0, 0.0, 0.0, 0.0], [0.0, 0.0, 0.0, 0.0], ...  \n",
       "1    [[[0.0, 0.0, 0.0, 0.0], [0.0, 0.0, 0.0, 0.0], ...  \n",
       "2    [[[0.0, 0.0, 0.0, 0.0], [0.0, 0.0, 0.0, 0.0], ...  \n",
       "3    [[[0.0, 0.0, 0.0, 0.0], [0.0, 0.0, 0.0, 0.0], ...  \n",
       "4    [[[0.0, 0.0, 0.0, 0.0], [0.0, 0.0, 0.0, 0.0], ...  \n",
       "..                                                 ...  \n",
       "804  [[[0.0, 0.0, 0.0, 0.0], [0.0, 0.0, 0.0, 0.0], ...  \n",
       "805  [[[0.0, 0.0, 0.0, 0.0], [0.0, 0.0, 0.0, 0.0], ...  \n",
       "806  [[[0.0, 0.0, 0.0, 0.0], [0.0, 0.0, 0.0, 0.0], ...  \n",
       "807  [[[0.0, 0.0, 0.0, 0.0], [0.0, 0.0, 0.0, 0.0], ...  \n",
       "808  [[[0.0, 0.0, 0.0, 0.0], [0.0, 0.0, 0.0, 0.0], ...  \n",
       "\n",
       "[809 rows x 4 columns]"
      ]
     },
     "execution_count": 8,
     "metadata": {},
     "output_type": "execute_result"
    }
   ],
   "source": [
    "# Combined the two datasets\n",
    "pokemon_data['Image_Mat'] = images['Image_Mat']\n",
    "pokemon_data"
   ]
  },
  {
   "cell_type": "code",
   "execution_count": 9,
   "id": "e1a16c7c",
   "metadata": {},
   "outputs": [],
   "source": [
    "# To view the image of the pokemon\n",
    "def view_pokemon(val) :\n",
    "    print(\"Pokemon: \" + pokemon_data['Name'][val])\n",
    "    plt.imshow(pokemon_data['Image_Mat'][val])\n",
    "\n",
    "# view_pokemon(0)"
   ]
  },
  {
   "cell_type": "code",
   "execution_count": 10,
   "id": "d311ff7e",
   "metadata": {},
   "outputs": [
    {
     "name": "stdout",
     "output_type": "stream",
     "text": [
      "Pokemon: tentacool\n"
     ]
    },
    {
     "data": {
      "image/png": "[encoded data removed]",
      "text/plain": [
       "<Figure size 432x288 with 1 Axes>"
      ]
     },
     "metadata": {
      "needs_background": "light"
     },
     "output_type": "display_data"
    }
   ],
   "source": [
    "# Each image has a height/width of 120 and a dimension of 4\n",
    "# image size: 57600\n",
    "# max RGB value: 255\n",
    "# min RBG valeue: 0\n",
    "\n",
    "# print(pokemon_data['Image_Mat'][0])\n",
    "# print(pokemon_data['Image_Mat'][1].min())\n",
    "# print(pokemon_data['Image_Mat'][2].max())\n",
    "# print(pokemon_data['Image_Mat'][3].shape)\n",
    "# print(pokemon_data['Image_Mat'][4].shape)\n",
    "pokemon_data['Image_Mat'][9].shape\n",
    "view_pokemon(700)"
   ]
  },
  {
   "cell_type": "markdown",
   "id": "2c1078a4",
   "metadata": {},
   "source": [
    "## TESTING"
   ]
  },
  {
   "cell_type": "code",
   "execution_count": 11,
   "id": "f6d5961c",
   "metadata": {},
   "outputs": [],
   "source": [
    "# https://www.geeksforgeeks.org/extract-dominant-colors-of-an-image-using-python/\n",
    "import math\n",
    "\n",
    "avg_color = []\n",
    "\n",
    "for pokemon in pokemon_data['Image_Mat']:\n",
    "    # Stores all RGB values and resets for each pokemon\n",
    "    r = []\n",
    "    g = []\n",
    "    b = []\n",
    "    # Case for RGB-A or 4 dimension\n",
    "    if (pokemon.shape == (120,120,4)):\n",
    "        for row in pokemon:\n",
    "            for temp_r, temp_g, temp_b,temp in row:\n",
    "                # Not taking into account black pixels\n",
    "                if ((int(temp_r) + int(temp_g) + int(temp_b)) != 0):\n",
    "                    r.append(temp_r)\n",
    "                    g.append(temp_g)\n",
    "                    b.append(temp_b)\n",
    "        avg_color.append([math.floor(np.mean(r)), math.floor(np.mean(g)), math.floor(np.mean(b))])\n",
    "        \n",
    "    # Case for RGB or 3 dimension\n",
    "    else:\n",
    "        for row in pokemon:\n",
    "            for temp_r, temp_g, temp_b in row:\n",
    "                # Not taking into account black pixels\n",
    "                if ((int(temp_r) + int(temp_g) + int(temp_b)) != 0):\n",
    "                    r.append(temp_r)\n",
    "                    g.append(temp_g)\n",
    "                    b.append(temp_b)\n",
    "        avg_color.append([math.floor(np.mean(r)), math.floor(np.mean(g)), math.floor(np.mean(b))])\n",
    "    \n",
    "avg_color\n",
    "pokemon_data['avg_color'] = avg_color"
   ]
  },
  {
   "cell_type": "code",
   "execution_count": 12,
   "id": "0633b1cc",
   "metadata": {},
   "outputs": [
    {
     "data": {
      "text/html": [
       "<div>\n",
       "<style scoped>\n",
       "    .dataframe tbody tr th:only-of-type {\n",
       "        vertical-align: middle;\n",
       "    }\n",
       "\n",
       "    .dataframe tbody tr th {\n",
       "        vertical-align: top;\n",
       "    }\n",
       "\n",
       "    .dataframe thead th {\n",
       "        text-align: right;\n",
       "    }\n",
       "</style>\n",
       "<table border=\"1\" class=\"dataframe\">\n",
       "  <thead>\n",
       "    <tr style=\"text-align: right;\">\n",
       "      <th></th>\n",
       "      <th>Name</th>\n",
       "      <th>Type1</th>\n",
       "      <th>Type2</th>\n",
       "      <th>Image_Mat</th>\n",
       "      <th>avg_color</th>\n",
       "    </tr>\n",
       "  </thead>\n",
       "  <tbody>\n",
       "    <tr>\n",
       "      <th>0</th>\n",
       "      <td>abomasnow</td>\n",
       "      <td>Grass</td>\n",
       "      <td>Ice</td>\n",
       "      <td>[[[0.0, 0.0, 0.0, 0.0], [0.0, 0.0, 0.0, 0.0], ...</td>\n",
       "      <td>[0, 0, 0]</td>\n",
       "    </tr>\n",
       "    <tr>\n",
       "      <th>1</th>\n",
       "      <td>abra</td>\n",
       "      <td>Psychic</td>\n",
       "      <td>NaN</td>\n",
       "      <td>[[[0.0, 0.0, 0.0, 0.0], [0.0, 0.0, 0.0, 0.0], ...</td>\n",
       "      <td>[0, 0, 0]</td>\n",
       "    </tr>\n",
       "    <tr>\n",
       "      <th>2</th>\n",
       "      <td>absol</td>\n",
       "      <td>Dark</td>\n",
       "      <td>NaN</td>\n",
       "      <td>[[[0.0, 0.0, 0.0, 0.0], [0.0, 0.0, 0.0, 0.0], ...</td>\n",
       "      <td>[0, 0, 0]</td>\n",
       "    </tr>\n",
       "    <tr>\n",
       "      <th>3</th>\n",
       "      <td>accelgor</td>\n",
       "      <td>Bug</td>\n",
       "      <td>NaN</td>\n",
       "      <td>[[[0.0, 0.0, 0.0, 0.0], [0.0, 0.0, 0.0, 0.0], ...</td>\n",
       "      <td>[0, 0, 0]</td>\n",
       "    </tr>\n",
       "    <tr>\n",
       "      <th>4</th>\n",
       "      <td>aegislash-blade</td>\n",
       "      <td>Steel</td>\n",
       "      <td>Ghost</td>\n",
       "      <td>[[[0.0, 0.0, 0.0, 0.0], [0.0, 0.0, 0.0, 0.0], ...</td>\n",
       "      <td>[0, 0, 0]</td>\n",
       "    </tr>\n",
       "    <tr>\n",
       "      <th>...</th>\n",
       "      <td>...</td>\n",
       "      <td>...</td>\n",
       "      <td>...</td>\n",
       "      <td>...</td>\n",
       "      <td>...</td>\n",
       "    </tr>\n",
       "    <tr>\n",
       "      <th>804</th>\n",
       "      <td>zoroark</td>\n",
       "      <td>Dark</td>\n",
       "      <td>NaN</td>\n",
       "      <td>[[[0.0, 0.0, 0.0, 0.0], [0.0, 0.0, 0.0, 0.0], ...</td>\n",
       "      <td>[0, 0, 0]</td>\n",
       "    </tr>\n",
       "    <tr>\n",
       "      <th>805</th>\n",
       "      <td>zorua</td>\n",
       "      <td>Dark</td>\n",
       "      <td>NaN</td>\n",
       "      <td>[[[0.0, 0.0, 0.0, 0.0], [0.0, 0.0, 0.0, 0.0], ...</td>\n",
       "      <td>[0, 0, 0]</td>\n",
       "    </tr>\n",
       "    <tr>\n",
       "      <th>806</th>\n",
       "      <td>zubat</td>\n",
       "      <td>Poison</td>\n",
       "      <td>Flying</td>\n",
       "      <td>[[[0.0, 0.0, 0.0, 0.0], [0.0, 0.0, 0.0, 0.0], ...</td>\n",
       "      <td>[1, 0, 0]</td>\n",
       "    </tr>\n",
       "    <tr>\n",
       "      <th>807</th>\n",
       "      <td>zweilous</td>\n",
       "      <td>Dark</td>\n",
       "      <td>Dragon</td>\n",
       "      <td>[[[0.0, 0.0, 0.0, 0.0], [0.0, 0.0, 0.0, 0.0], ...</td>\n",
       "      <td>[0, 0, 0]</td>\n",
       "    </tr>\n",
       "    <tr>\n",
       "      <th>808</th>\n",
       "      <td>zygarde-50</td>\n",
       "      <td>Dragon</td>\n",
       "      <td>Ground</td>\n",
       "      <td>[[[0.0, 0.0, 0.0, 0.0], [0.0, 0.0, 0.0, 0.0], ...</td>\n",
       "      <td>[0, 0, 0]</td>\n",
       "    </tr>\n",
       "  </tbody>\n",
       "</table>\n",
       "<p>809 rows × 5 columns</p>\n",
       "</div>"
      ],
      "text/plain": [
       "                Name    Type1   Type2  \\\n",
       "0          abomasnow    Grass     Ice   \n",
       "1               abra  Psychic     NaN   \n",
       "2              absol     Dark     NaN   \n",
       "3           accelgor      Bug     NaN   \n",
       "4    aegislash-blade    Steel   Ghost   \n",
       "..               ...      ...     ...   \n",
       "804          zoroark     Dark     NaN   \n",
       "805            zorua     Dark     NaN   \n",
       "806            zubat   Poison  Flying   \n",
       "807         zweilous     Dark  Dragon   \n",
       "808       zygarde-50   Dragon  Ground   \n",
       "\n",
       "                                             Image_Mat  avg_color  \n",
       "0    [[[0.0, 0.0, 0.0, 0.0], [0.0, 0.0, 0.0, 0.0], ...  [0, 0, 0]  \n",
       "1    [[[0.0, 0.0, 0.0, 0.0], [0.0, 0.0, 0.0, 0.0], ...  [0, 0, 0]  \n",
       "2    [[[0.0, 0.0, 0.0, 0.0], [0.0, 0.0, 0.0, 0.0], ...  [0, 0, 0]  \n",
       "3    [[[0.0, 0.0, 0.0, 0.0], [0.0, 0.0, 0.0, 0.0], ...  [0, 0, 0]  \n",
       "4    [[[0.0, 0.0, 0.0, 0.0], [0.0, 0.0, 0.0, 0.0], ...  [0, 0, 0]  \n",
       "..                                                 ...        ...  \n",
       "804  [[[0.0, 0.0, 0.0, 0.0], [0.0, 0.0, 0.0, 0.0], ...  [0, 0, 0]  \n",
       "805  [[[0.0, 0.0, 0.0, 0.0], [0.0, 0.0, 0.0, 0.0], ...  [0, 0, 0]  \n",
       "806  [[[0.0, 0.0, 0.0, 0.0], [0.0, 0.0, 0.0, 0.0], ...  [1, 0, 0]  \n",
       "807  [[[0.0, 0.0, 0.0, 0.0], [0.0, 0.0, 0.0, 0.0], ...  [0, 0, 0]  \n",
       "808  [[[0.0, 0.0, 0.0, 0.0], [0.0, 0.0, 0.0, 0.0], ...  [0, 0, 0]  \n",
       "\n",
       "[809 rows x 5 columns]"
      ]
     },
     "execution_count": 12,
     "metadata": {},
     "output_type": "execute_result"
    }
   ],
   "source": [
    "pokemon_data"
   ]
  },
  {
   "cell_type": "code",
   "execution_count": 13,
   "id": "9c128ddc",
   "metadata": {},
   "outputs": [],
   "source": [
    "learn_data = pokemon_data.copy(deep = True)\n"
   ]
  },
  {
   "cell_type": "code",
   "execution_count": 14,
   "id": "e4101320",
   "metadata": {},
   "outputs": [],
   "source": [
    "learn_data = learn_data.drop(columns = ['Name', 'Type2', 'Image_Mat'])"
   ]
  },
  {
   "cell_type": "code",
   "execution_count": 15,
   "id": "1f8722b9",
   "metadata": {
    "scrolled": false
   },
   "outputs": [
    {
     "data": {
      "text/html": [
       "<div>\n",
       "<style scoped>\n",
       "    .dataframe tbody tr th:only-of-type {\n",
       "        vertical-align: middle;\n",
       "    }\n",
       "\n",
       "    .dataframe tbody tr th {\n",
       "        vertical-align: top;\n",
       "    }\n",
       "\n",
       "    .dataframe thead th {\n",
       "        text-align: right;\n",
       "    }\n",
       "</style>\n",
       "<table border=\"1\" class=\"dataframe\">\n",
       "  <thead>\n",
       "    <tr style=\"text-align: right;\">\n",
       "      <th></th>\n",
       "      <th>Type1</th>\n",
       "      <th>avg_color</th>\n",
       "    </tr>\n",
       "  </thead>\n",
       "  <tbody>\n",
       "    <tr>\n",
       "      <th>0</th>\n",
       "      <td>Grass</td>\n",
       "      <td>[0, 0, 0]</td>\n",
       "    </tr>\n",
       "    <tr>\n",
       "      <th>1</th>\n",
       "      <td>Psychic</td>\n",
       "      <td>[0, 0, 0]</td>\n",
       "    </tr>\n",
       "    <tr>\n",
       "      <th>2</th>\n",
       "      <td>Dark</td>\n",
       "      <td>[0, 0, 0]</td>\n",
       "    </tr>\n",
       "    <tr>\n",
       "      <th>3</th>\n",
       "      <td>Bug</td>\n",
       "      <td>[0, 0, 0]</td>\n",
       "    </tr>\n",
       "    <tr>\n",
       "      <th>4</th>\n",
       "      <td>Steel</td>\n",
       "      <td>[0, 0, 0]</td>\n",
       "    </tr>\n",
       "    <tr>\n",
       "      <th>...</th>\n",
       "      <td>...</td>\n",
       "      <td>...</td>\n",
       "    </tr>\n",
       "    <tr>\n",
       "      <th>804</th>\n",
       "      <td>Dark</td>\n",
       "      <td>[0, 0, 0]</td>\n",
       "    </tr>\n",
       "    <tr>\n",
       "      <th>805</th>\n",
       "      <td>Dark</td>\n",
       "      <td>[0, 0, 0]</td>\n",
       "    </tr>\n",
       "    <tr>\n",
       "      <th>806</th>\n",
       "      <td>Poison</td>\n",
       "      <td>[1, 0, 0]</td>\n",
       "    </tr>\n",
       "    <tr>\n",
       "      <th>807</th>\n",
       "      <td>Dark</td>\n",
       "      <td>[0, 0, 0]</td>\n",
       "    </tr>\n",
       "    <tr>\n",
       "      <th>808</th>\n",
       "      <td>Dragon</td>\n",
       "      <td>[0, 0, 0]</td>\n",
       "    </tr>\n",
       "  </tbody>\n",
       "</table>\n",
       "<p>809 rows × 2 columns</p>\n",
       "</div>"
      ],
      "text/plain": [
       "       Type1  avg_color\n",
       "0      Grass  [0, 0, 0]\n",
       "1    Psychic  [0, 0, 0]\n",
       "2       Dark  [0, 0, 0]\n",
       "3        Bug  [0, 0, 0]\n",
       "4      Steel  [0, 0, 0]\n",
       "..       ...        ...\n",
       "804     Dark  [0, 0, 0]\n",
       "805     Dark  [0, 0, 0]\n",
       "806   Poison  [1, 0, 0]\n",
       "807     Dark  [0, 0, 0]\n",
       "808   Dragon  [0, 0, 0]\n",
       "\n",
       "[809 rows x 2 columns]"
      ]
     },
     "execution_count": 15,
     "metadata": {},
     "output_type": "execute_result"
    }
   ],
   "source": [
    "learn_data"
   ]
  },
  {
   "cell_type": "code",
   "execution_count": 16,
   "id": "43dfedf1",
   "metadata": {},
   "outputs": [
    {
     "data": {
      "text/html": [
       "<div>\n",
       "<style scoped>\n",
       "    .dataframe tbody tr th:only-of-type {\n",
       "        vertical-align: middle;\n",
       "    }\n",
       "\n",
       "    .dataframe tbody tr th {\n",
       "        vertical-align: top;\n",
       "    }\n",
       "\n",
       "    .dataframe thead th {\n",
       "        text-align: right;\n",
       "    }\n",
       "</style>\n",
       "<table border=\"1\" class=\"dataframe\">\n",
       "  <thead>\n",
       "    <tr style=\"text-align: right;\">\n",
       "      <th></th>\n",
       "      <th>Type1</th>\n",
       "      <th>avg_color</th>\n",
       "    </tr>\n",
       "  </thead>\n",
       "  <tbody>\n",
       "    <tr>\n",
       "      <th>0</th>\n",
       "      <td>Grass</td>\n",
       "      <td>[0, 0, 0]</td>\n",
       "    </tr>\n",
       "    <tr>\n",
       "      <th>1</th>\n",
       "      <td>Psychic</td>\n",
       "      <td>[0, 0, 0]</td>\n",
       "    </tr>\n",
       "    <tr>\n",
       "      <th>2</th>\n",
       "      <td>Dark</td>\n",
       "      <td>[0, 0, 0]</td>\n",
       "    </tr>\n",
       "    <tr>\n",
       "      <th>3</th>\n",
       "      <td>Bug</td>\n",
       "      <td>[0, 0, 0]</td>\n",
       "    </tr>\n",
       "    <tr>\n",
       "      <th>4</th>\n",
       "      <td>Steel</td>\n",
       "      <td>[0, 0, 0]</td>\n",
       "    </tr>\n",
       "    <tr>\n",
       "      <th>...</th>\n",
       "      <td>...</td>\n",
       "      <td>...</td>\n",
       "    </tr>\n",
       "    <tr>\n",
       "      <th>804</th>\n",
       "      <td>Dark</td>\n",
       "      <td>[0, 0, 0]</td>\n",
       "    </tr>\n",
       "    <tr>\n",
       "      <th>805</th>\n",
       "      <td>Dark</td>\n",
       "      <td>[0, 0, 0]</td>\n",
       "    </tr>\n",
       "    <tr>\n",
       "      <th>806</th>\n",
       "      <td>Poison</td>\n",
       "      <td>[1, 0, 0]</td>\n",
       "    </tr>\n",
       "    <tr>\n",
       "      <th>807</th>\n",
       "      <td>Dark</td>\n",
       "      <td>[0, 0, 0]</td>\n",
       "    </tr>\n",
       "    <tr>\n",
       "      <th>808</th>\n",
       "      <td>Dragon</td>\n",
       "      <td>[0, 0, 0]</td>\n",
       "    </tr>\n",
       "  </tbody>\n",
       "</table>\n",
       "<p>809 rows × 2 columns</p>\n",
       "</div>"
      ],
      "text/plain": [
       "       Type1  avg_color\n",
       "0      Grass  [0, 0, 0]\n",
       "1    Psychic  [0, 0, 0]\n",
       "2       Dark  [0, 0, 0]\n",
       "3        Bug  [0, 0, 0]\n",
       "4      Steel  [0, 0, 0]\n",
       "..       ...        ...\n",
       "804     Dark  [0, 0, 0]\n",
       "805     Dark  [0, 0, 0]\n",
       "806   Poison  [1, 0, 0]\n",
       "807     Dark  [0, 0, 0]\n",
       "808   Dragon  [0, 0, 0]\n",
       "\n",
       "[809 rows x 2 columns]"
      ]
     },
     "execution_count": 16,
     "metadata": {},
     "output_type": "execute_result"
    }
   ],
   "source": [
    "pca_data = learn_data.copy(deep = True)\n",
    "pca_data"
   ]
  },
  {
   "cell_type": "code",
   "execution_count": 17,
   "id": "3c2d8308",
   "metadata": {},
   "outputs": [
    {
     "data": {
      "text/plain": [
       "(Water       114\n",
       " Normal      105\n",
       " Grass        78\n",
       " Bug          72\n",
       " Fire         53\n",
       " Psychic      53\n",
       " Rock         46\n",
       " Electric     40\n",
       " Poison       34\n",
       " Ground       32\n",
       " Dark         29\n",
       " Fighting     29\n",
       " Dragon       27\n",
       " Ghost        27\n",
       " Steel        26\n",
       " Ice          23\n",
       " Fairy        18\n",
       " Flying        3\n",
       " Name: Type1, dtype: int64,\n",
       " ['Water',\n",
       "  'Normal',\n",
       "  'Grass',\n",
       "  'Bug',\n",
       "  'Fire',\n",
       "  'Psychic',\n",
       "  'Rock',\n",
       "  'Electric',\n",
       "  'Poison',\n",
       "  'Ground',\n",
       "  'Dark',\n",
       "  'Fighting',\n",
       "  'Dragon',\n",
       "  'Ghost',\n",
       "  'Steel',\n",
       "  'Ice',\n",
       "  'Fairy',\n",
       "  'Flying'])"
      ]
     },
     "execution_count": 17,
     "metadata": {},
     "output_type": "execute_result"
    }
   ],
   "source": [
    "value_count = learn_data['Type1'].value_counts()\n",
    "unique = value_count.index.to_list()\n",
    "value_count, unique"
   ]
  },
  {
   "cell_type": "code",
   "execution_count": 18,
   "id": "0be8c974",
   "metadata": {},
   "outputs": [],
   "source": [
    "# unique_types = list(learn_data['Type1'].unique())\n",
    "# unique_types"
   ]
  },
  {
   "cell_type": "code",
   "execution_count": 19,
   "id": "bc6c173e",
   "metadata": {},
   "outputs": [],
   "source": [
    "# unique_count = [i for i in range(18)]"
   ]
  },
  {
   "cell_type": "code",
   "execution_count": 20,
   "id": "2e5cff6e",
   "metadata": {},
   "outputs": [],
   "source": [
    "# dict(zip(unique_types, unique_count))"
   ]
  },
  {
   "cell_type": "code",
   "execution_count": 21,
   "id": "5cf31e5c",
   "metadata": {},
   "outputs": [],
   "source": [
    "# learn_data['Type1'].replace(dict(zip(unique_types, unique_count)), inplace = True)"
   ]
  },
  {
   "cell_type": "code",
   "execution_count": 22,
   "id": "fe6938ba",
   "metadata": {},
   "outputs": [
    {
     "data": {
      "text/html": [
       "<div>\n",
       "<style scoped>\n",
       "    .dataframe tbody tr th:only-of-type {\n",
       "        vertical-align: middle;\n",
       "    }\n",
       "\n",
       "    .dataframe tbody tr th {\n",
       "        vertical-align: top;\n",
       "    }\n",
       "\n",
       "    .dataframe thead th {\n",
       "        text-align: right;\n",
       "    }\n",
       "</style>\n",
       "<table border=\"1\" class=\"dataframe\">\n",
       "  <thead>\n",
       "    <tr style=\"text-align: right;\">\n",
       "      <th></th>\n",
       "      <th>Type1</th>\n",
       "      <th>avg_color</th>\n",
       "    </tr>\n",
       "  </thead>\n",
       "  <tbody>\n",
       "    <tr>\n",
       "      <th>0</th>\n",
       "      <td>Grass</td>\n",
       "      <td>[0, 0, 0]</td>\n",
       "    </tr>\n",
       "    <tr>\n",
       "      <th>1</th>\n",
       "      <td>Psychic</td>\n",
       "      <td>[0, 0, 0]</td>\n",
       "    </tr>\n",
       "    <tr>\n",
       "      <th>2</th>\n",
       "      <td>Dark</td>\n",
       "      <td>[0, 0, 0]</td>\n",
       "    </tr>\n",
       "    <tr>\n",
       "      <th>3</th>\n",
       "      <td>Bug</td>\n",
       "      <td>[0, 0, 0]</td>\n",
       "    </tr>\n",
       "    <tr>\n",
       "      <th>4</th>\n",
       "      <td>Steel</td>\n",
       "      <td>[0, 0, 0]</td>\n",
       "    </tr>\n",
       "    <tr>\n",
       "      <th>...</th>\n",
       "      <td>...</td>\n",
       "      <td>...</td>\n",
       "    </tr>\n",
       "    <tr>\n",
       "      <th>804</th>\n",
       "      <td>Dark</td>\n",
       "      <td>[0, 0, 0]</td>\n",
       "    </tr>\n",
       "    <tr>\n",
       "      <th>805</th>\n",
       "      <td>Dark</td>\n",
       "      <td>[0, 0, 0]</td>\n",
       "    </tr>\n",
       "    <tr>\n",
       "      <th>806</th>\n",
       "      <td>Poison</td>\n",
       "      <td>[1, 0, 0]</td>\n",
       "    </tr>\n",
       "    <tr>\n",
       "      <th>807</th>\n",
       "      <td>Dark</td>\n",
       "      <td>[0, 0, 0]</td>\n",
       "    </tr>\n",
       "    <tr>\n",
       "      <th>808</th>\n",
       "      <td>Dragon</td>\n",
       "      <td>[0, 0, 0]</td>\n",
       "    </tr>\n",
       "  </tbody>\n",
       "</table>\n",
       "<p>809 rows × 2 columns</p>\n",
       "</div>"
      ],
      "text/plain": [
       "       Type1  avg_color\n",
       "0      Grass  [0, 0, 0]\n",
       "1    Psychic  [0, 0, 0]\n",
       "2       Dark  [0, 0, 0]\n",
       "3        Bug  [0, 0, 0]\n",
       "4      Steel  [0, 0, 0]\n",
       "..       ...        ...\n",
       "804     Dark  [0, 0, 0]\n",
       "805     Dark  [0, 0, 0]\n",
       "806   Poison  [1, 0, 0]\n",
       "807     Dark  [0, 0, 0]\n",
       "808   Dragon  [0, 0, 0]\n",
       "\n",
       "[809 rows x 2 columns]"
      ]
     },
     "execution_count": 22,
     "metadata": {},
     "output_type": "execute_result"
    }
   ],
   "source": [
    "learn_data"
   ]
  },
  {
   "cell_type": "code",
   "execution_count": 23,
   "id": "fed2eb77",
   "metadata": {},
   "outputs": [],
   "source": [
    "from sklearn import tree\n",
    "import numpy as np\n",
    "from sklearn.model_selection import train_test_split"
   ]
  },
  {
   "cell_type": "code",
   "execution_count": 24,
   "id": "ea50c770",
   "metadata": {},
   "outputs": [],
   "source": [
    "Y = learn_data['Type1'].to_list()"
   ]
  },
  {
   "cell_type": "code",
   "execution_count": 25,
   "id": "5311d83d",
   "metadata": {},
   "outputs": [],
   "source": [
    "X = learn_data['avg_color'].to_list()"
   ]
  },
  {
   "cell_type": "code",
   "execution_count": 26,
   "id": "e1dcaba4",
   "metadata": {},
   "outputs": [],
   "source": [
    "X_train, X_test, y_train, y_test = train_test_split(X,Y,test_size = 0.33, random_state = 42)"
   ]
  },
  {
   "cell_type": "code",
   "execution_count": 27,
   "id": "dfcda735",
   "metadata": {},
   "outputs": [],
   "source": [
    "model = tree.DecisionTreeClassifier()"
   ]
  },
  {
   "cell_type": "code",
   "execution_count": 28,
   "id": "38365a20",
   "metadata": {},
   "outputs": [],
   "source": [
    "model = model.fit(X_train, y_train)"
   ]
  },
  {
   "cell_type": "code",
   "execution_count": 29,
   "id": "47e680c5",
   "metadata": {},
   "outputs": [
    {
     "data": {
      "text/plain": [
       "DecisionTreeClassifier()"
      ]
     },
     "execution_count": 29,
     "metadata": {},
     "output_type": "execute_result"
    }
   ],
   "source": [
    "model"
   ]
  },
  {
   "cell_type": "code",
   "execution_count": 30,
   "id": "9535113a",
   "metadata": {},
   "outputs": [
    {
     "data": {
      "text/html": [
       "<div>\n",
       "<style scoped>\n",
       "    .dataframe tbody tr th:only-of-type {\n",
       "        vertical-align: middle;\n",
       "    }\n",
       "\n",
       "    .dataframe tbody tr th {\n",
       "        vertical-align: top;\n",
       "    }\n",
       "\n",
       "    .dataframe thead th {\n",
       "        text-align: right;\n",
       "    }\n",
       "</style>\n",
       "<table border=\"1\" class=\"dataframe\">\n",
       "  <thead>\n",
       "    <tr style=\"text-align: right;\">\n",
       "      <th></th>\n",
       "      <th>Type1</th>\n",
       "      <th>avg_color</th>\n",
       "    </tr>\n",
       "  </thead>\n",
       "  <tbody>\n",
       "    <tr>\n",
       "      <th>0</th>\n",
       "      <td>Normal</td>\n",
       "      <td>[0, 0, 0]</td>\n",
       "    </tr>\n",
       "    <tr>\n",
       "      <th>1</th>\n",
       "      <td>Electric</td>\n",
       "      <td>[0, 0, 0]</td>\n",
       "    </tr>\n",
       "    <tr>\n",
       "      <th>2</th>\n",
       "      <td>Grass</td>\n",
       "      <td>[0, 0, 0]</td>\n",
       "    </tr>\n",
       "    <tr>\n",
       "      <th>3</th>\n",
       "      <td>Grass</td>\n",
       "      <td>[245, 244, 239]</td>\n",
       "    </tr>\n",
       "    <tr>\n",
       "      <th>4</th>\n",
       "      <td>Water</td>\n",
       "      <td>[0, 0, 0]</td>\n",
       "    </tr>\n",
       "    <tr>\n",
       "      <th>...</th>\n",
       "      <td>...</td>\n",
       "      <td>...</td>\n",
       "    </tr>\n",
       "    <tr>\n",
       "      <th>262</th>\n",
       "      <td>Normal</td>\n",
       "      <td>[0, 0, 0]</td>\n",
       "    </tr>\n",
       "    <tr>\n",
       "      <th>263</th>\n",
       "      <td>Normal</td>\n",
       "      <td>[0, 0, 0]</td>\n",
       "    </tr>\n",
       "    <tr>\n",
       "      <th>264</th>\n",
       "      <td>Normal</td>\n",
       "      <td>[0, 0, 0]</td>\n",
       "    </tr>\n",
       "    <tr>\n",
       "      <th>265</th>\n",
       "      <td>Ground</td>\n",
       "      <td>[0, 0, 0]</td>\n",
       "    </tr>\n",
       "    <tr>\n",
       "      <th>266</th>\n",
       "      <td>Bug</td>\n",
       "      <td>[0, 0, 0]</td>\n",
       "    </tr>\n",
       "  </tbody>\n",
       "</table>\n",
       "<p>267 rows × 2 columns</p>\n",
       "</div>"
      ],
      "text/plain": [
       "        Type1        avg_color\n",
       "0      Normal        [0, 0, 0]\n",
       "1    Electric        [0, 0, 0]\n",
       "2       Grass        [0, 0, 0]\n",
       "3       Grass  [245, 244, 239]\n",
       "4       Water        [0, 0, 0]\n",
       "..        ...              ...\n",
       "262    Normal        [0, 0, 0]\n",
       "263    Normal        [0, 0, 0]\n",
       "264    Normal        [0, 0, 0]\n",
       "265    Ground        [0, 0, 0]\n",
       "266       Bug        [0, 0, 0]\n",
       "\n",
       "[267 rows x 2 columns]"
      ]
     },
     "execution_count": 30,
     "metadata": {},
     "output_type": "execute_result"
    }
   ],
   "source": [
    "test_poke = pd.DataFrame(list(zip(y_test, X_test)), columns = ['Type1','avg_color'])\n",
    "test_poke"
   ]
  },
  {
   "cell_type": "code",
   "execution_count": 31,
   "id": "ec1cca53",
   "metadata": {},
   "outputs": [],
   "source": [
    "poison = model.predict([[165, 144, 118]])"
   ]
  },
  {
   "cell_type": "code",
   "execution_count": 32,
   "id": "2abd2145",
   "metadata": {},
   "outputs": [
    {
     "data": {
      "text/plain": [
       "array(['Psychic'], dtype='<U8')"
      ]
     },
     "execution_count": 32,
     "metadata": {},
     "output_type": "execute_result"
    }
   ],
   "source": [
    "poison"
   ]
  },
  {
   "cell_type": "code",
   "execution_count": 33,
   "id": "7fd63589",
   "metadata": {},
   "outputs": [],
   "source": [
    "subset = test_poke[test_poke['Type1'] == unique[10]]"
   ]
  },
  {
   "cell_type": "code",
   "execution_count": 34,
   "id": "411f9c77",
   "metadata": {},
   "outputs": [
    {
     "data": {
      "text/html": [
       "<div>\n",
       "<style scoped>\n",
       "    .dataframe tbody tr th:only-of-type {\n",
       "        vertical-align: middle;\n",
       "    }\n",
       "\n",
       "    .dataframe tbody tr th {\n",
       "        vertical-align: top;\n",
       "    }\n",
       "\n",
       "    .dataframe thead th {\n",
       "        text-align: right;\n",
       "    }\n",
       "</style>\n",
       "<table border=\"1\" class=\"dataframe\">\n",
       "  <thead>\n",
       "    <tr style=\"text-align: right;\">\n",
       "      <th></th>\n",
       "      <th>Type1</th>\n",
       "      <th>avg_color</th>\n",
       "    </tr>\n",
       "  </thead>\n",
       "  <tbody>\n",
       "    <tr>\n",
       "      <th>13</th>\n",
       "      <td>Dark</td>\n",
       "      <td>[0, 0, 0]</td>\n",
       "    </tr>\n",
       "    <tr>\n",
       "      <th>19</th>\n",
       "      <td>Dark</td>\n",
       "      <td>[0, 0, 0]</td>\n",
       "    </tr>\n",
       "    <tr>\n",
       "      <th>66</th>\n",
       "      <td>Dark</td>\n",
       "      <td>[0, 0, 0]</td>\n",
       "    </tr>\n",
       "    <tr>\n",
       "      <th>72</th>\n",
       "      <td>Dark</td>\n",
       "      <td>[0, 0, 0]</td>\n",
       "    </tr>\n",
       "    <tr>\n",
       "      <th>73</th>\n",
       "      <td>Dark</td>\n",
       "      <td>[0, 0, 0]</td>\n",
       "    </tr>\n",
       "    <tr>\n",
       "      <th>101</th>\n",
       "      <td>Dark</td>\n",
       "      <td>[0, 0, 0]</td>\n",
       "    </tr>\n",
       "    <tr>\n",
       "      <th>120</th>\n",
       "      <td>Dark</td>\n",
       "      <td>[167, 177, 175]</td>\n",
       "    </tr>\n",
       "    <tr>\n",
       "      <th>153</th>\n",
       "      <td>Dark</td>\n",
       "      <td>[0, 0, 0]</td>\n",
       "    </tr>\n",
       "    <tr>\n",
       "      <th>191</th>\n",
       "      <td>Dark</td>\n",
       "      <td>[0, 0, 0]</td>\n",
       "    </tr>\n",
       "    <tr>\n",
       "      <th>225</th>\n",
       "      <td>Dark</td>\n",
       "      <td>[0, 0, 0]</td>\n",
       "    </tr>\n",
       "    <tr>\n",
       "      <th>228</th>\n",
       "      <td>Dark</td>\n",
       "      <td>[0, 0, 0]</td>\n",
       "    </tr>\n",
       "    <tr>\n",
       "      <th>247</th>\n",
       "      <td>Dark</td>\n",
       "      <td>[0, 0, 0]</td>\n",
       "    </tr>\n",
       "  </tbody>\n",
       "</table>\n",
       "</div>"
      ],
      "text/plain": [
       "    Type1        avg_color\n",
       "13   Dark        [0, 0, 0]\n",
       "19   Dark        [0, 0, 0]\n",
       "66   Dark        [0, 0, 0]\n",
       "72   Dark        [0, 0, 0]\n",
       "73   Dark        [0, 0, 0]\n",
       "101  Dark        [0, 0, 0]\n",
       "120  Dark  [167, 177, 175]\n",
       "153  Dark        [0, 0, 0]\n",
       "191  Dark        [0, 0, 0]\n",
       "225  Dark        [0, 0, 0]\n",
       "228  Dark        [0, 0, 0]\n",
       "247  Dark        [0, 0, 0]"
      ]
     },
     "execution_count": 34,
     "metadata": {},
     "output_type": "execute_result"
    }
   ],
   "source": [
    "subset"
   ]
  },
  {
   "cell_type": "code",
   "execution_count": 35,
   "id": "b031838b",
   "metadata": {},
   "outputs": [
    {
     "data": {
      "text/plain": [
       "12"
      ]
     },
     "execution_count": 35,
     "metadata": {},
     "output_type": "execute_result"
    }
   ],
   "source": [
    "subset_size = subset.shape[0]\n",
    "subset_size"
   ]
  },
  {
   "cell_type": "code",
   "execution_count": 36,
   "id": "00872e94",
   "metadata": {
    "scrolled": true
   },
   "outputs": [
    {
     "data": {
      "text/plain": [
       "[[0, 0, 0],\n",
       " [0, 0, 0],\n",
       " [0, 0, 0],\n",
       " [0, 0, 0],\n",
       " [0, 0, 0],\n",
       " [0, 0, 0],\n",
       " [167, 177, 175],\n",
       " [0, 0, 0],\n",
       " [0, 0, 0],\n",
       " [0, 0, 0],\n",
       " [0, 0, 0],\n",
       " [0, 0, 0]]"
      ]
     },
     "execution_count": 36,
     "metadata": {},
     "output_type": "execute_result"
    }
   ],
   "source": [
    "subset_avg = subset['avg_color'].to_list()\n",
    "subset_avg"
   ]
  },
  {
   "cell_type": "code",
   "execution_count": 37,
   "id": "4aac4e1b",
   "metadata": {},
   "outputs": [],
   "source": [
    "preds = []\n",
    "for i in subset_avg:\n",
    "    preds.append(model.predict([i]))"
   ]
  },
  {
   "cell_type": "code",
   "execution_count": 38,
   "id": "48be8bb6",
   "metadata": {},
   "outputs": [
    {
     "data": {
      "text/plain": [
       "[array(['Water'], dtype='<U8'),\n",
       " array(['Water'], dtype='<U8'),\n",
       " array(['Water'], dtype='<U8'),\n",
       " array(['Water'], dtype='<U8'),\n",
       " array(['Water'], dtype='<U8'),\n",
       " array(['Water'], dtype='<U8'),\n",
       " array(['Psychic'], dtype='<U8'),\n",
       " array(['Water'], dtype='<U8'),\n",
       " array(['Water'], dtype='<U8'),\n",
       " array(['Water'], dtype='<U8'),\n",
       " array(['Water'], dtype='<U8'),\n",
       " array(['Water'], dtype='<U8')]"
      ]
     },
     "execution_count": 38,
     "metadata": {},
     "output_type": "execute_result"
    }
   ],
   "source": [
    "preds"
   ]
  },
  {
   "cell_type": "code",
   "execution_count": 39,
   "id": "ebf80ecc",
   "metadata": {},
   "outputs": [
    {
     "data": {
      "text/plain": [
       "0.0"
      ]
     },
     "execution_count": 39,
     "metadata": {},
     "output_type": "execute_result"
    }
   ],
   "source": [
    "accuracy = len([i[0] for i in preds if i == unique[10]]) / subset_size\n",
    "accuracy"
   ]
  },
  {
   "cell_type": "code",
   "execution_count": null,
   "id": "7237bed1",
   "metadata": {},
   "outputs": [],
   "source": []
  },
  {
   "cell_type": "code",
   "execution_count": 40,
   "id": "e6f9813c",
   "metadata": {},
   "outputs": [],
   "source": [
    "#pca"
   ]
  },
  {
   "cell_type": "code",
   "execution_count": 41,
   "id": "11096ed1",
   "metadata": {},
   "outputs": [
    {
     "data": {
      "text/html": [
       "<div>\n",
       "<style scoped>\n",
       "    .dataframe tbody tr th:only-of-type {\n",
       "        vertical-align: middle;\n",
       "    }\n",
       "\n",
       "    .dataframe tbody tr th {\n",
       "        vertical-align: top;\n",
       "    }\n",
       "\n",
       "    .dataframe thead th {\n",
       "        text-align: right;\n",
       "    }\n",
       "</style>\n",
       "<table border=\"1\" class=\"dataframe\">\n",
       "  <thead>\n",
       "    <tr style=\"text-align: right;\">\n",
       "      <th></th>\n",
       "      <th>Type1</th>\n",
       "      <th>avg_color</th>\n",
       "    </tr>\n",
       "  </thead>\n",
       "  <tbody>\n",
       "    <tr>\n",
       "      <th>0</th>\n",
       "      <td>Grass</td>\n",
       "      <td>[0, 0, 0]</td>\n",
       "    </tr>\n",
       "    <tr>\n",
       "      <th>1</th>\n",
       "      <td>Psychic</td>\n",
       "      <td>[0, 0, 0]</td>\n",
       "    </tr>\n",
       "    <tr>\n",
       "      <th>2</th>\n",
       "      <td>Dark</td>\n",
       "      <td>[0, 0, 0]</td>\n",
       "    </tr>\n",
       "    <tr>\n",
       "      <th>3</th>\n",
       "      <td>Bug</td>\n",
       "      <td>[0, 0, 0]</td>\n",
       "    </tr>\n",
       "    <tr>\n",
       "      <th>4</th>\n",
       "      <td>Steel</td>\n",
       "      <td>[0, 0, 0]</td>\n",
       "    </tr>\n",
       "    <tr>\n",
       "      <th>...</th>\n",
       "      <td>...</td>\n",
       "      <td>...</td>\n",
       "    </tr>\n",
       "    <tr>\n",
       "      <th>804</th>\n",
       "      <td>Dark</td>\n",
       "      <td>[0, 0, 0]</td>\n",
       "    </tr>\n",
       "    <tr>\n",
       "      <th>805</th>\n",
       "      <td>Dark</td>\n",
       "      <td>[0, 0, 0]</td>\n",
       "    </tr>\n",
       "    <tr>\n",
       "      <th>806</th>\n",
       "      <td>Poison</td>\n",
       "      <td>[1, 0, 0]</td>\n",
       "    </tr>\n",
       "    <tr>\n",
       "      <th>807</th>\n",
       "      <td>Dark</td>\n",
       "      <td>[0, 0, 0]</td>\n",
       "    </tr>\n",
       "    <tr>\n",
       "      <th>808</th>\n",
       "      <td>Dragon</td>\n",
       "      <td>[0, 0, 0]</td>\n",
       "    </tr>\n",
       "  </tbody>\n",
       "</table>\n",
       "<p>809 rows × 2 columns</p>\n",
       "</div>"
      ],
      "text/plain": [
       "       Type1  avg_color\n",
       "0      Grass  [0, 0, 0]\n",
       "1    Psychic  [0, 0, 0]\n",
       "2       Dark  [0, 0, 0]\n",
       "3        Bug  [0, 0, 0]\n",
       "4      Steel  [0, 0, 0]\n",
       "..       ...        ...\n",
       "804     Dark  [0, 0, 0]\n",
       "805     Dark  [0, 0, 0]\n",
       "806   Poison  [1, 0, 0]\n",
       "807     Dark  [0, 0, 0]\n",
       "808   Dragon  [0, 0, 0]\n",
       "\n",
       "[809 rows x 2 columns]"
      ]
     },
     "execution_count": 41,
     "metadata": {},
     "output_type": "execute_result"
    }
   ],
   "source": [
    "pca_data"
   ]
  },
  {
   "cell_type": "code",
   "execution_count": 42,
   "id": "2690d1ee",
   "metadata": {},
   "outputs": [],
   "source": [
    "avg_rgb = pd.DataFrame(pca_data['avg_color'].to_list(), columns = ['avg_r', 'avg_g', 'avg_b'])\n",
    "pca_data = pd.concat([pca_data, avg_rgb], axis=1)\n",
    "pca_data = pca_data.drop('avg_color', axis=1)"
   ]
  },
  {
   "cell_type": "code",
   "execution_count": 43,
   "id": "e17da3e3",
   "metadata": {},
   "outputs": [
    {
     "data": {
      "text/html": [
       "<div>\n",
       "<style scoped>\n",
       "    .dataframe tbody tr th:only-of-type {\n",
       "        vertical-align: middle;\n",
       "    }\n",
       "\n",
       "    .dataframe tbody tr th {\n",
       "        vertical-align: top;\n",
       "    }\n",
       "\n",
       "    .dataframe thead th {\n",
       "        text-align: right;\n",
       "    }\n",
       "</style>\n",
       "<table border=\"1\" class=\"dataframe\">\n",
       "  <thead>\n",
       "    <tr style=\"text-align: right;\">\n",
       "      <th></th>\n",
       "      <th>Type1</th>\n",
       "      <th>avg_r</th>\n",
       "      <th>avg_g</th>\n",
       "      <th>avg_b</th>\n",
       "    </tr>\n",
       "  </thead>\n",
       "  <tbody>\n",
       "    <tr>\n",
       "      <th>0</th>\n",
       "      <td>Grass</td>\n",
       "      <td>0</td>\n",
       "      <td>0</td>\n",
       "      <td>0</td>\n",
       "    </tr>\n",
       "    <tr>\n",
       "      <th>1</th>\n",
       "      <td>Psychic</td>\n",
       "      <td>0</td>\n",
       "      <td>0</td>\n",
       "      <td>0</td>\n",
       "    </tr>\n",
       "    <tr>\n",
       "      <th>2</th>\n",
       "      <td>Dark</td>\n",
       "      <td>0</td>\n",
       "      <td>0</td>\n",
       "      <td>0</td>\n",
       "    </tr>\n",
       "    <tr>\n",
       "      <th>3</th>\n",
       "      <td>Bug</td>\n",
       "      <td>0</td>\n",
       "      <td>0</td>\n",
       "      <td>0</td>\n",
       "    </tr>\n",
       "    <tr>\n",
       "      <th>4</th>\n",
       "      <td>Steel</td>\n",
       "      <td>0</td>\n",
       "      <td>0</td>\n",
       "      <td>0</td>\n",
       "    </tr>\n",
       "    <tr>\n",
       "      <th>...</th>\n",
       "      <td>...</td>\n",
       "      <td>...</td>\n",
       "      <td>...</td>\n",
       "      <td>...</td>\n",
       "    </tr>\n",
       "    <tr>\n",
       "      <th>804</th>\n",
       "      <td>Dark</td>\n",
       "      <td>0</td>\n",
       "      <td>0</td>\n",
       "      <td>0</td>\n",
       "    </tr>\n",
       "    <tr>\n",
       "      <th>805</th>\n",
       "      <td>Dark</td>\n",
       "      <td>0</td>\n",
       "      <td>0</td>\n",
       "      <td>0</td>\n",
       "    </tr>\n",
       "    <tr>\n",
       "      <th>806</th>\n",
       "      <td>Poison</td>\n",
       "      <td>1</td>\n",
       "      <td>0</td>\n",
       "      <td>0</td>\n",
       "    </tr>\n",
       "    <tr>\n",
       "      <th>807</th>\n",
       "      <td>Dark</td>\n",
       "      <td>0</td>\n",
       "      <td>0</td>\n",
       "      <td>0</td>\n",
       "    </tr>\n",
       "    <tr>\n",
       "      <th>808</th>\n",
       "      <td>Dragon</td>\n",
       "      <td>0</td>\n",
       "      <td>0</td>\n",
       "      <td>0</td>\n",
       "    </tr>\n",
       "  </tbody>\n",
       "</table>\n",
       "<p>809 rows × 4 columns</p>\n",
       "</div>"
      ],
      "text/plain": [
       "       Type1  avg_r  avg_g  avg_b\n",
       "0      Grass      0      0      0\n",
       "1    Psychic      0      0      0\n",
       "2       Dark      0      0      0\n",
       "3        Bug      0      0      0\n",
       "4      Steel      0      0      0\n",
       "..       ...    ...    ...    ...\n",
       "804     Dark      0      0      0\n",
       "805     Dark      0      0      0\n",
       "806   Poison      1      0      0\n",
       "807     Dark      0      0      0\n",
       "808   Dragon      0      0      0\n",
       "\n",
       "[809 rows x 4 columns]"
      ]
     },
     "execution_count": 43,
     "metadata": {},
     "output_type": "execute_result"
    }
   ],
   "source": [
    "pca_data \n",
    "# if this grows in columns run the deep copy again and run above again"
   ]
  },
  {
   "cell_type": "code",
   "execution_count": 44,
   "id": "83136b5b",
   "metadata": {},
   "outputs": [
    {
     "data": {
      "text/html": [
       "<div>\n",
       "<style scoped>\n",
       "    .dataframe tbody tr th:only-of-type {\n",
       "        vertical-align: middle;\n",
       "    }\n",
       "\n",
       "    .dataframe tbody tr th {\n",
       "        vertical-align: top;\n",
       "    }\n",
       "\n",
       "    .dataframe thead th {\n",
       "        text-align: right;\n",
       "    }\n",
       "</style>\n",
       "<table border=\"1\" class=\"dataframe\">\n",
       "  <thead>\n",
       "    <tr style=\"text-align: right;\">\n",
       "      <th></th>\n",
       "      <th>avg_r</th>\n",
       "      <th>avg_g</th>\n",
       "      <th>avg_b</th>\n",
       "    </tr>\n",
       "  </thead>\n",
       "  <tbody>\n",
       "    <tr>\n",
       "      <th>0</th>\n",
       "      <td>0</td>\n",
       "      <td>0</td>\n",
       "      <td>0</td>\n",
       "    </tr>\n",
       "    <tr>\n",
       "      <th>1</th>\n",
       "      <td>0</td>\n",
       "      <td>0</td>\n",
       "      <td>0</td>\n",
       "    </tr>\n",
       "    <tr>\n",
       "      <th>2</th>\n",
       "      <td>0</td>\n",
       "      <td>0</td>\n",
       "      <td>0</td>\n",
       "    </tr>\n",
       "    <tr>\n",
       "      <th>3</th>\n",
       "      <td>0</td>\n",
       "      <td>0</td>\n",
       "      <td>0</td>\n",
       "    </tr>\n",
       "    <tr>\n",
       "      <th>4</th>\n",
       "      <td>0</td>\n",
       "      <td>0</td>\n",
       "      <td>0</td>\n",
       "    </tr>\n",
       "  </tbody>\n",
       "</table>\n",
       "</div>"
      ],
      "text/plain": [
       "   avg_r  avg_g  avg_b\n",
       "0      0      0      0\n",
       "1      0      0      0\n",
       "2      0      0      0\n",
       "3      0      0      0\n",
       "4      0      0      0"
      ]
     },
     "execution_count": 44,
     "metadata": {},
     "output_type": "execute_result"
    }
   ],
   "source": [
    "pca_data['Type1']=pd.Categorical(pca_data['Type1'])\n",
    "my_color=pca_data['Type1'].cat.codes\n",
    "\n",
    "X = pca_data.drop(columns = ['Type1'])\n",
    "X.head()"
   ]
  },
  {
   "cell_type": "code",
   "execution_count": 45,
   "id": "c4a52b53",
   "metadata": {},
   "outputs": [
    {
     "data": {
      "text/plain": [
       "array(['Grass', 'Psychic', 'Dark', 'Bug', 'Steel', 'Rock', 'Steel',\n",
       "       'Normal', 'Psychic', 'Water'], dtype=object)"
      ]
     },
     "execution_count": 45,
     "metadata": {},
     "output_type": "execute_result"
    }
   ],
   "source": [
    "Y = np.array(pca_data['Type1'])\n",
    "Y[:10]"
   ]
  },
  {
   "cell_type": "code",
   "execution_count": 46,
   "id": "237930bf",
   "metadata": {},
   "outputs": [
    {
     "data": {
      "text/plain": [
       "Water       114\n",
       "Normal      105\n",
       "Grass        78\n",
       "Bug          72\n",
       "Fire         53\n",
       "Psychic      53\n",
       "Rock         46\n",
       "Electric     40\n",
       "Poison       34\n",
       "Ground       32\n",
       "Fighting     29\n",
       "Dark         29\n",
       "Ghost        27\n",
       "Dragon       27\n",
       "Steel        26\n",
       "Ice          23\n",
       "Fairy        18\n",
       "Flying        3\n",
       "Name: Type1, dtype: int64"
      ]
     },
     "execution_count": 46,
     "metadata": {},
     "output_type": "execute_result"
    }
   ],
   "source": [
    "pca_data['Type1'].value_counts()"
   ]
  },
  {
   "cell_type": "code",
   "execution_count": 47,
   "id": "0a9c465b",
   "metadata": {},
   "outputs": [],
   "source": [
    "from sklearn.preprocessing import StandardScaler"
   ]
  },
  {
   "cell_type": "code",
   "execution_count": 48,
   "id": "d0332412",
   "metadata": {},
   "outputs": [],
   "source": [
    "scaler = StandardScaler(with_mean = False)\n",
    "scaler.fit(X)\n",
    "X_standardized = scaler.transform(X)\n",
    "X_standard = pd.DataFrame(X_standardized, columns = X.columns)"
   ]
  },
  {
   "cell_type": "code",
   "execution_count": 49,
   "id": "bac21b5e",
   "metadata": {},
   "outputs": [],
   "source": [
    "from sklearn.decomposition import PCA"
   ]
  },
  {
   "cell_type": "code",
   "execution_count": 50,
   "id": "3e1150fc",
   "metadata": {},
   "outputs": [],
   "source": [
    "pca = PCA(n_components = 3, random_state = 0)\n",
    "pca.fit(X_standardized)\n",
    "X_dim_reducted = pca.transform(X_standardized)\n",
    "X_dim_reducted\n",
    "result = pd.DataFrame(X_dim_reducted, columns = ['PCA1','PCA2','PCA3'])"
   ]
  },
  {
   "cell_type": "code",
   "execution_count": 51,
   "id": "4cdf037a",
   "metadata": {},
   "outputs": [
    {
     "data": {
      "text/plain": [
       "{}"
      ]
     },
     "execution_count": 51,
     "metadata": {},
     "output_type": "execute_result"
    }
   ],
   "source": [
    "legend = dict(zip())\n",
    "legend"
   ]
  },
  {
   "cell_type": "code",
   "execution_count": 52,
   "id": "617593fe",
   "metadata": {},
   "outputs": [],
   "source": [
    "import matplotlib"
   ]
  },
  {
   "cell_type": "code",
   "execution_count": 55,
   "id": "59022af4",
   "metadata": {},
   "outputs": [
    {
     "data": {
      "text/plain": [
       "<AxesSubplot:xlabel='PCA1', ylabel='PCA2'>"
      ]
     },
     "execution_count": 55,
     "metadata": {},
     "output_type": "execute_result"
    },
    {
     "data": {
      "image/png": "[encoded data removed]",
      "text/plain": [
       "<Figure size 432x288 with 1 Axes>"
      ]
     },
     "metadata": {
      "needs_background": "light"
     },
     "output_type": "display_data"
    }
   ],
   "source": [
    "%matplotlib inline\n",
    "import matplotlib.pyplot as plt\n",
    "import seaborn as sns\n",
    "\n",
    "pca = PCA(n_components = 3)\n",
    "\n",
    "sns.scatterplot(x = 'PCA1', y = 'PCA2', hue = Y, palette = \"Paired\", data = result) \n"
   ]
  },
  {
   "cell_type": "code",
   "execution_count": 56,
   "id": "e359409d",
   "metadata": {
    "scrolled": true
   },
   "outputs": [
    {
     "data": {
      "text/plain": [
       "<Figure size 480x480 with 0 Axes>"
      ]
     },
     "metadata": {},
     "output_type": "display_data"
    },
    {
     "data": {
      "image/png": "[encoded data removed]",
      "text/plain": [
       "<Figure size 432x288 with 1 Axes>"
      ]
     },
     "metadata": {
      "needs_background": "light"
     },
     "output_type": "display_data"
    }
   ],
   "source": [
    "%matplotlib inline\n",
    "my_dpi=96\n",
    "plt.figure(figsize=(480/my_dpi, 480/my_dpi), dpi=my_dpi)\n",
    "\n",
    "fig = plt.figure()\n",
    "ax = fig.add_subplot(111, projection='3d')\n",
    "ax.scatter(result['PCA1'], result['PCA2'], result['PCA3'], c=my_color, cmap=\"Set2_r\", s=60)\n",
    "\n",
    "xAxisLine = ((min(result['PCA1']), max(result['PCA2'])), (0, 0), (0,0))\n",
    "ax.plot(xAxisLine[0], xAxisLine[1], xAxisLine[2], 'r')\n",
    "yAxisLine = ((0, 0), (min(result['PCA2']), max(result['PCA2'])), (0,0))\n",
    "ax.plot(yAxisLine[0], yAxisLine[1], yAxisLine[2], 'r')\n",
    "zAxisLine = ((0, 0), (0,0), (min(result['PCA3']), max(result['PCA3'])))\n",
    "ax.plot(zAxisLine[0], zAxisLine[1], zAxisLine[2], 'r')\n",
    "\n",
    "ax.set_xlabel(\"PC1\")\n",
    "ax.set_ylabel(\"PC2\")\n",
    "ax.set_zlabel(\"PC3\")\n",
    "ax.set_title(\"PCA on the iris data set\")\n",
    "plt.show()"
   ]
  },
  {
   "cell_type": "code",
   "execution_count": null,
   "id": "9f5bdcd2",
   "metadata": {},
   "outputs": [],
   "source": []
  },
  {
   "cell_type": "code",
   "execution_count": null,
   "id": "0778a867",
   "metadata": {},
   "outputs": [],
   "source": []
  }
 ],
 "metadata": {
  "kernelspec": {
   "display_name": "Python 3 (clean)",
   "language": "python",
   "name": "python3_clean"
  },
  "language_info": {
   "codemirror_mode": {
    "name": "ipython",
    "version": 3
   },
   "file_extension": ".py",
   "mimetype": "text/x-python",
   "name": "python",
   "nbconvert_exporter": "python",
   "pygments_lexer": "ipython3",
   "version": "3.9.5"
  }
 },
 "nbformat": 4,
 "nbformat_minor": 5
}
