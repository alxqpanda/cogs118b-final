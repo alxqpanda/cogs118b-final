{
 "cells": [
  {
   "cell_type": "markdown",
   "id": "9970e23a",
   "metadata": {},
   "source": [
    "# Pokemon Classifier Algorithm\n",
    "\n",
    "Team Starter Pokemon<br>\n",
    "COGS118B FA21\n",
    "\n",
    "Alexa Acosta<br>\n",
    "Lian Lumada<br>\n",
    "Ramzy Oncy-Avila<br>\n",
    "\n",
    "[SLIDES](https://docs.google.com/presentation/d/19h5fS61qQCrhrNX4Yu0s71IPTsAPd-4Paam3E0TgaXg/edit?usp=sharing) / VIDEO"
   ]
  },
  {
   "cell_type": "markdown",
   "id": "ff94e4bc",
   "metadata": {},
   "source": [
    "## Loading packages"
   ]
  },
  {
   "cell_type": "code",
   "execution_count": 1,
   "id": "6a340a3a",
   "metadata": {},
   "outputs": [],
   "source": [
    "import zipfile\n",
    "zipfile.ZipFile('data_files.zip').extractall()"
   ]
  },
  {
   "cell_type": "code",
   "execution_count": 2,
   "id": "5d0528fc",
   "metadata": {},
   "outputs": [],
   "source": [
    "import imageio as iio\n",
    "import matplotlib.pyplot as plt\n",
    "import os\n",
    "import pandas as pd\n",
    "import numpy as np\n",
    "import random\n",
    "import pickle"
   ]
  },
  {
   "cell_type": "markdown",
   "id": "c226b450",
   "metadata": {},
   "source": [
    "## Data Import"
   ]
  },
  {
   "cell_type": "code",
   "execution_count": 4,
   "id": "c0891d6b",
   "metadata": {},
   "outputs": [],
   "source": [
    "# setting some helper variables\n",
    "directory = \"poke_photos/\"\n",
    "pokemon_names = []\n",
    "pokemon_photos = []\n",
    "\n",
    "# Uploading our Pokemon images\n",
    "for filename in os.listdir(directory):\n",
    "    # Stores names of each pokemon\n",
    "    name = os.path.splitext(filename)[0]\n",
    "    pokemon_names.append(name)\n",
    "    \n",
    "    # Stores the images of each pokemon - matrix representation\n",
    "    im = iio.imread(directory + filename)\n",
    "    pokemon_photos.append(im)"
   ]
  },
  {
   "cell_type": "code",
   "execution_count": null,
   "id": "a5e16b5c",
   "metadata": {},
   "outputs": [],
   "source": [
    "# Data frame with corresponding names and image matrix\n",
    "images = pd.DataFrame(columns = ('Name', 'Image_Mat'))\n",
    "images['Name'] = pokemon_names\n",
    "images['Image_Mat'] = pokemon_photos"
   ]
  },
  {
   "cell_type": "code",
   "execution_count": null,
   "id": "b0e9ee27",
   "metadata": {},
   "outputs": [],
   "source": [
    "# Pokemon info data set\n",
    "pokemon_data = pd.read_csv('pokemon_to_photos.csv')\n",
    "pokemon_data = pokemon_data.sort_values(\"Name\", ascending = True).reset_index(drop = True)\n",
    "\n",
    "pokemon_data"
   ]
  },
  {
   "cell_type": "markdown",
   "id": "2d9f9291",
   "metadata": {},
   "source": [
    "## Data Wrangling"
   ]
  },
  {
   "cell_type": "code",
   "execution_count": null,
   "id": "c4d46fd5",
   "metadata": {},
   "outputs": [],
   "source": [
    "# Sort based on names and reset index\n",
    "images = images.sort_values(\"Name\", ascending = True).reset_index(drop = True)\n",
    "\n",
    "images"
   ]
  },
  {
   "cell_type": "code",
   "execution_count": null,
   "id": "bfa765f4",
   "metadata": {},
   "outputs": [],
   "source": [
    "# Combined the two datasets\n",
    "pokemon_data['Image_Mat'] = images['Image_Mat']\n",
    "\n",
    "pokemon_data"
   ]
  },
  {
   "cell_type": "markdown",
   "id": "b19880e3",
   "metadata": {},
   "source": [
    "For each row of `pokemon_data`, a unique Pokemon is associated with it. Each Pokemon has four columns of data attached.\n",
    "- `Name`: the name of the Pokemon in lowercase\n",
    "- `Type1`: the primary type of the Pokemon\n",
    "- `Type2`: the secondary type of the Pokemon, can be NULL\n",
    "- `Image_Mat`: the tuple storing the RGBA values of each pixel in the 120x120 Pokemon image.\n",
    "     - first element: specifies the pixel row\n",
    "     - second element: specifies the pixel column\n",
    "     - third element: 4-element list that specifies the RGBA values of the pixel\n",
    "         - RGB: a value from 0 to 255\n",
    "         - A: the opacity level of the pixel, 0 to 1 (transparent to opaque)"
   ]
  },
  {
   "cell_type": "markdown",
   "id": "39225d26",
   "metadata": {},
   "source": [
    "## Custom Functions"
   ]
  },
  {
   "cell_type": "code",
   "execution_count": null,
   "id": "e1a16c7c",
   "metadata": {},
   "outputs": [],
   "source": [
    "# Function to view the image of the pokemon\n",
    "def view_pokemon(val) :\n",
    "    print(\"Pokemon: \" + pokemon_data['Name'][val])\n",
    "    plt.imshow(pokemon_data['Image_Mat'][val])\n",
    "\n",
    "view_pokemon(0)"
   ]
  },
  {
   "cell_type": "markdown",
   "id": "76c0411b",
   "metadata": {},
   "source": [
    "## Saving / Loading data"
   ]
  },
  {
   "cell_type": "code",
   "execution_count": 6,
   "id": "a3e9f4f4",
   "metadata": {},
   "outputs": [],
   "source": [
    "# Save our merged data into a file for easy access later on\n",
    "#with open('data.pickle', 'wb') as f:\n",
    "#    pickle.dump(pokemon_data, f)\n",
    "\n",
    "# Load our merged data into a python variable\n",
    "with open('data.pickle', 'rb') as f:\n",
    "    pokemon_data = pickle.load(f)"
   ]
  },
  {
   "cell_type": "markdown",
   "id": "2c1078a4",
   "metadata": {},
   "source": [
    "## Training"
   ]
  },
  {
   "cell_type": "code",
   "execution_count": null,
   "id": "2e5cff6e",
   "metadata": {},
   "outputs": [],
   "source": [
    "# get the mean RGBA values of all 809 Pokemon in the dataset\n",
    "mu_pkmn = []\n",
    "\n",
    "for i in pokemon_data['Image_Mat']:\n",
    "    mu_pkmn.append(np.mean(i, axis = (0,1))) # average rgba values\n",
    "    \n",
    "mu_pkmn"
   ]
  },
  {
   "cell_type": "code",
   "execution_count": null,
   "id": "a0684185",
   "metadata": {},
   "outputs": [],
   "source": [
    "# select 18 random mus for each type cluster we have\n",
    "mu_k = random.choices(mu_pkmn, k = 18)"
   ]
  },
  {
   "cell_type": "code",
   "execution_count": null,
   "id": "7257ea9f",
   "metadata": {},
   "outputs": [],
   "source": [
    "# split data into 80/20 training and testing data sets\n",
    "training_set = pokemon_data.sample(frac = 0.8, random_state = 500) # set seed to 500 for reproducible results\n",
    "test_set = pokemon_data.drop(training_set.index)"
   ]
  }
 ],
 "metadata": {
  "kernelspec": {
   "display_name": "Python 3 (clean)",
   "language": "python",
   "name": "python3_clean"
  },
  "language_info": {
   "codemirror_mode": {
    "name": "ipython",
    "version": 3
   },
   "file_extension": ".py",
   "mimetype": "text/x-python",
   "name": "python",
   "nbconvert_exporter": "python",
   "pygments_lexer": "ipython3",
   "version": "3.9.5"
  }
 },
 "nbformat": 4,
 "nbformat_minor": 5
}
