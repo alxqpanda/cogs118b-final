{
 "cells": [
  {
   "cell_type": "markdown",
   "id": "9970e23a",
   "metadata": {},
   "source": [
    "# Pokemon Classifier Algorithm\n",
    "\n",
    "Team Starter Pokemon<br>\n",
    "COGS118B FA21\n",
    "\n",
    "Alexa Acosta<br>\n",
    "Lian Lumada<br>\n",
    "Ramzy Oncy-Avila<br>\n",
    "\n",
    "[SLIDES](https://docs.google.com/presentation/d/19h5fS61qQCrhrNX4Yu0s71IPTsAPd-4Paam3E0TgaXg/edit?usp=sharing) / VIDEO"
   ]
  },
  {
   "cell_type": "markdown",
   "id": "ff94e4bc",
   "metadata": {},
   "source": [
    "## Loading packages"
   ]
  },
  {
   "cell_type": "code",
   "execution_count": 1,
   "id": "6a340a3a",
   "metadata": {},
   "outputs": [],
   "source": [
    "import zipfile\n",
    "zipfile.ZipFile('data_files.zip').extractall()"
   ]
  },
  {
   "cell_type": "code",
   "execution_count": 2,
   "id": "5d0528fc",
   "metadata": {},
   "outputs": [],
   "source": [
    "import imageio as iio\n",
    "import matplotlib.pyplot as plt\n",
    "import os\n",
    "import pandas as pd\n",
    "import numpy as np\n",
    "import random\n",
    "import pickle"
   ]
  },
  {
   "cell_type": "markdown",
   "id": "c226b450",
   "metadata": {},
   "source": [
    "## Data Import"
   ]
  },
  {
   "cell_type": "code",
   "execution_count": null,
   "id": "c0891d6b",
   "metadata": {},
   "outputs": [],
   "source": [
    "# setting some helper variables\n",
    "directory = \"poke_photos/\"\n",
    "pokemon_names = []\n",
    "pokemon_photos = []\n",
    "\n",
    "# Uploading our Pokemon images\n",
    "for filename in os.listdir(directory):\n",
    "    # Stores names of each pokemon\n",
    "    name = os.path.splitext(filename)[0]\n",
    "    pokemon_names.append(name)\n",
    "    \n",
    "    # Stores the images of each pokemon - matrix representation\n",
    "    im = iio.imread(directory + filename, pilmode = \"RGBA\")[:, :, 0:3] #(120, 120, 3)\n",
    "    flat_im = [value for rgba in im for value in rgba]\n",
    "    flatter_im = [value for rgba in flat_im for value in rgba]\n",
    "    im_final = np.reshape(flatter_im, (14400, 3))\n",
    "    pokemon_photos.append(im_final)"
   ]
  },
  {
   "cell_type": "code",
   "execution_count": null,
   "id": "a5e16b5c",
   "metadata": {},
   "outputs": [],
   "source": [
    "# Data frame with corresponding names and image matrix\n",
    "images = pd.DataFrame(columns = ('Name', 'Image_Mat'))\n",
    "images['Name'] = pokemon_names\n",
    "images['Image_Mat'] = pokemon_photos"
   ]
  },
  {
   "cell_type": "code",
   "execution_count": null,
   "id": "b0e9ee27",
   "metadata": {},
   "outputs": [],
   "source": [
    "# Pokemon info data set\n",
    "pokemon_data = pd.read_csv('pokemon_to_photos.csv')\n",
    "pokemon_data = pokemon_data.sort_values(\"Name\", ascending = True).reset_index(drop = True)"
   ]
  },
  {
   "cell_type": "markdown",
   "id": "2d9f9291",
   "metadata": {},
   "source": [
    "## Data Wrangling"
   ]
  },
  {
   "cell_type": "code",
   "execution_count": null,
   "id": "c4d46fd5",
   "metadata": {},
   "outputs": [],
   "source": [
    "# Sort based on names and reset index\n",
    "images = images.sort_values(\"Name\", ascending = True).reset_index(drop = True)"
   ]
  },
  {
   "cell_type": "code",
   "execution_count": null,
   "id": "bfa765f4",
   "metadata": {},
   "outputs": [],
   "source": [
    "# Combined the two datasets\n",
    "pokemon_data['Image_Mat'] = images['Image_Mat']"
   ]
  },
  {
   "cell_type": "code",
   "execution_count": null,
   "id": "8bb13c2f",
   "metadata": {},
   "outputs": [],
   "source": [
    "pokemon_data.head(5)"
   ]
  },
  {
   "cell_type": "markdown",
   "id": "b19880e3",
   "metadata": {},
   "source": [
    "For each row of `pokemon_data`, a unique Pokemon is associated with it. Each Pokemon has four columns of data attached.\n",
    "- `Name`: the name of the Pokemon in lowercase\n",
    "- `Type1`: the primary type of the Pokemon\n",
    "- `Type2`: the secondary type of the Pokemon, can be NULL\n",
    "- `Image_Mat`: a tuple storing the RGB values of each pixel (top to bottom, left to right) in the 120x120 Pokemon image.\n",
    "    - RGB: a value from 0 to 255"
   ]
  },
  {
   "cell_type": "markdown",
   "id": "76c0411b",
   "metadata": {},
   "source": [
    "## Saving / Loading data"
   ]
  },
  {
   "cell_type": "code",
   "execution_count": 3,
   "id": "a3e9f4f4",
   "metadata": {},
   "outputs": [],
   "source": [
    "# Save our merged data into a file for easy access later on\n",
    "#with open('data.pickle', 'wb') as f:\n",
    "#    pickle.dump(pokemon_data, f)\n",
    "\n",
    "# Load our merged data into a python variable\n",
    "with open('data.pickle', 'rb') as f:\n",
    "    pokemon_data = pickle.load(f)"
   ]
  },
  {
   "cell_type": "markdown",
   "id": "39225d26",
   "metadata": {},
   "source": [
    "## Custom Functions"
   ]
  },
  {
   "cell_type": "code",
   "execution_count": 4,
   "id": "e1a16c7c",
   "metadata": {},
   "outputs": [],
   "source": [
    "# Function to view the image of the Pokemon\n",
    "def view_pokemon(val) :\n",
    "    print(\"Pokemon: \" + pokemon_data['Name'][val])\n",
    "    pkmn_reverted = np.reshape(pokemon_data['Image_Mat'][val], (120, 120, 3))\n",
    "    plt.imshow(pkmn_reverted)"
   ]
  },
  {
   "cell_type": "code",
   "execution_count": 5,
   "id": "6e8ee663",
   "metadata": {},
   "outputs": [],
   "source": [
    "# Function to find average RGB value of a Pokemon\n",
    "def rgb_pkmn(img_mat):\n",
    "    return np.mean(img_mat, axis = 0)"
   ]
  },
  {
   "cell_type": "code",
   "execution_count": 6,
   "id": "422cd423",
   "metadata": {},
   "outputs": [],
   "source": [
    "# Function to get squared distance of each Pokemon's average RGB value from mu of cluster k\n",
    "def sqDist(img_mat, mu_k):\n",
    "    rgb_mat = img_mat['Image_Mat']\n",
    "    sqDmat = np.zeros((np.shape(rgb_mat)[0], np.shape(mu_k)[0]))\n",
    "    i = 0\n",
    "    \n",
    "    for x in rgb_mat:\n",
    "        for mu in range(len(mu_k)):\n",
    "            sqDmat[i, mu] = sum((rgb_pkmn(x) - mu_k[mu]) ** 2)\n",
    "        i += 1\n",
    "    \n",
    "    return sqDmat"
   ]
  },
  {
   "cell_type": "code",
   "execution_count": 7,
   "id": "f1987264",
   "metadata": {},
   "outputs": [],
   "source": [
    "# Function that returns responsibilities of cluster k\n",
    "def rnkMat(sqDmat):\n",
    "    rnk = np.zeros(np.shape(sqDmat))\n",
    "    mu_col = np.argmin(sqDmat, axis = 1)\n",
    "    \n",
    "    for x in range(len(mu_col)):\n",
    "        rnk[x, mu_col[x]] = 1\n",
    "    \n",
    "    return rnk"
   ]
  },
  {
   "cell_type": "code",
   "execution_count": 8,
   "id": "52683548",
   "metadata": {},
   "outputs": [],
   "source": [
    "# Function that calculates new mu of cluster k based on responsibilities\n",
    "def newMus(img_mat, rnk):\n",
    "    rgb_mat = img_mat['Image_Mat']\n",
    "    mu_k = np.zeros((np.shape(rnk)[1], np.shape(rgb_mat[0])[1]))\n",
    "    \n",
    "    for k in range(len(rnk[0])):\n",
    "        x = rgb_mat[rnk[:, k].astype(bool)]\n",
    "        sum_rnk = len(x)\n",
    "        sum_x = 0\n",
    "        if (sum_rnk != 0):\n",
    "            for pkmn in x:\n",
    "                sum_x += sum(rgb_pkmn(pkmn))\n",
    "            mu_k[k,:] = sum_x / sum_rnk\n",
    "    \n",
    "    return mu_k"
   ]
  },
  {
   "cell_type": "markdown",
   "id": "2c1078a4",
   "metadata": {},
   "source": [
    "## Training"
   ]
  },
  {
   "cell_type": "code",
   "execution_count": 9,
   "id": "2e5cff6e",
   "metadata": {},
   "outputs": [],
   "source": [
    "# get the mean RGB values of all 809 Pokemon in the dataset\n",
    "mu_pkmn = []\n",
    "\n",
    "for i in pokemon_data['Image_Mat']:\n",
    "    mu_pkmn.append(rgb_pkmn(i)) # average rgba values"
   ]
  },
  {
   "cell_type": "code",
   "execution_count": 10,
   "id": "a0684185",
   "metadata": {},
   "outputs": [],
   "source": [
    "# select 18 random mus for each type cluster we have to initialize mus\n",
    "kn = 18 # we have 18 base types\n",
    "mu_k = np.asarray(random.choices(mu_pkmn, k = kn))"
   ]
  },
  {
   "cell_type": "code",
   "execution_count": 11,
   "id": "7257ea9f",
   "metadata": {},
   "outputs": [],
   "source": [
    "# split data into 80/20 training and testing data sets\n",
    "training_set = pokemon_data.sample(frac = 0.8, random_state = 500) # set seed to 500 for reproducible results\n",
    "test_set = pokemon_data.drop(training_set.index)"
   ]
  },
  {
   "cell_type": "code",
   "execution_count": 12,
   "id": "2c8eca1a",
   "metadata": {
    "scrolled": true
   },
   "outputs": [],
   "source": [
    "maxiters = 100;\n",
    "\n",
    "for iter in range(maxiters):\n",
    "    sqDmat = sqDist(training_set, mu_k)\n",
    "    \n",
    "    rnk = rnkMat(sqDmat)\n",
    "\n",
    "    mu_old = mu_k\n",
    "    mu_k = newMus(training_set, rnk)\n",
    "    \n",
    "    if sum(abs(mu_old.flatten() - mu_k.flatten())) < 1e-6:\n",
    "            break"
   ]
  },
  {
   "cell_type": "markdown",
   "id": "c8198877",
   "metadata": {},
   "source": [
    "Due to time constraints, we are not able to test the algorithm because it still needed some work to ensure that it was able to compute the `mu_k` matrix properly."
   ]
  }
 ],
 "metadata": {
  "kernelspec": {
   "display_name": "Python 3 (clean)",
   "language": "python",
   "name": "python3_clean"
  },
  "language_info": {
   "codemirror_mode": {
    "name": "ipython",
    "version": 3
   },
   "file_extension": ".py",
   "mimetype": "text/x-python",
   "name": "python",
   "nbconvert_exporter": "python",
   "pygments_lexer": "ipython3",
   "version": "3.9.5"
  }
 },
 "nbformat": 4,
 "nbformat_minor": 5
}
