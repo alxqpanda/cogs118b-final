{
 "cells": [
  {
   "cell_type": "markdown",
   "id": "9970e23a",
   "metadata": {},
   "source": [
    "# Pokemon Classifier Algorithm\n",
    "\n",
    "Team Starter Pokemon<br>\n",
    "COGS118B FA21\n",
    "\n",
    "Alexa Acosta<br>\n",
    "Lian Lumada<br>\n",
    "Ramzy Oncy-Avila<br>\n",
    "\n",
    "[SLIDES](https://docs.google.com/presentation/d/19h5fS61qQCrhrNX4Yu0s71IPTsAPd-4Paam3E0TgaXg/edit?usp=sharing) / VIDEO"
   ]
  },
  {
   "cell_type": "markdown",
   "id": "ff94e4bc",
   "metadata": {},
   "source": [
    "## Loading packages"
   ]
  },
  {
   "cell_type": "code",
   "execution_count": 1,
   "id": "6a340a3a",
   "metadata": {},
   "outputs": [],
   "source": [
    "import zipfile\n",
    "zipfile.ZipFile('data_files.zip').extractall()"
   ]
  },
  {
   "cell_type": "code",
   "execution_count": 2,
   "id": "5d0528fc",
   "metadata": {},
   "outputs": [],
   "source": [
    "import imageio as iio\n",
    "import matplotlib.pyplot as plt\n",
    "import os\n",
    "import pandas as pd\n",
    "import numpy as np\n",
    "import random\n",
    "import pickle"
   ]
  },
  {
   "cell_type": "markdown",
   "id": "c226b450",
   "metadata": {},
   "source": [
    "## Data Import"
   ]
  },
  {
   "cell_type": "code",
   "execution_count": 3,
   "id": "c0891d6b",
   "metadata": {},
   "outputs": [],
   "source": [
    "# setting some helper variables\n",
    "directory = \"poke_photos/\"\n",
    "pokemon_names = []\n",
    "pokemon_photos = []\n",
    "\n",
    "# Uploading our Pokemon images\n",
    "for filename in os.listdir(directory):\n",
    "    # Stores names of each pokemon\n",
    "    name = os.path.splitext(filename)[0]\n",
    "    pokemon_names.append(name)\n",
    "    \n",
    "    # Stores the images of each pokemon - matrix representation\n",
    "    im = iio.imread(directory + filename, pilmode = \"RGBA\")[:, :, 0:3] #(120, 120, 3)\n",
    "    flat_im = [value for rgba in im for value in rgba]\n",
    "    flatter_im = [value for rgba in flat_im for value in rgba]\n",
    "    im_final = np.reshape(flatter_im, (14400, 3))\n",
    "    pokemon_photos.append(im_final)"
   ]
  },
  {
   "cell_type": "code",
   "execution_count": 4,
   "id": "a5e16b5c",
   "metadata": {},
   "outputs": [],
   "source": [
    "# Data frame with corresponding names and image matrix\n",
    "images = pd.DataFrame(columns = ('Name', 'Image_Mat'))\n",
    "images['Name'] = pokemon_names\n",
    "images['Image_Mat'] = pokemon_photos"
   ]
  },
  {
   "cell_type": "code",
   "execution_count": 5,
   "id": "b0e9ee27",
   "metadata": {},
   "outputs": [],
   "source": [
    "# Pokemon info data set\n",
    "pokemon_data = pd.read_csv('pokemon_to_photos.csv')\n",
    "pokemon_data = pokemon_data.sort_values(\"Name\", ascending = True).reset_index(drop = True)"
   ]
  },
  {
   "cell_type": "markdown",
   "id": "2d9f9291",
   "metadata": {},
   "source": [
    "## Data Wrangling"
   ]
  },
  {
   "cell_type": "code",
   "execution_count": 6,
   "id": "c4d46fd5",
   "metadata": {},
   "outputs": [],
   "source": [
    "# Sort based on names and reset index\n",
    "images = images.sort_values(\"Name\", ascending = True).reset_index(drop = True)"
   ]
  },
  {
   "cell_type": "code",
   "execution_count": 7,
   "id": "bfa765f4",
   "metadata": {},
   "outputs": [],
   "source": [
    "# Combined the two datasets\n",
    "pokemon_data['Image_Mat'] = images['Image_Mat']"
   ]
  },
  {
   "cell_type": "code",
   "execution_count": 8,
   "id": "8bb13c2f",
   "metadata": {},
   "outputs": [
    {
     "data": {
      "text/html": [
       "<div>\n",
       "<style scoped>\n",
       "    .dataframe tbody tr th:only-of-type {\n",
       "        vertical-align: middle;\n",
       "    }\n",
       "\n",
       "    .dataframe tbody tr th {\n",
       "        vertical-align: top;\n",
       "    }\n",
       "\n",
       "    .dataframe thead th {\n",
       "        text-align: right;\n",
       "    }\n",
       "</style>\n",
       "<table border=\"1\" class=\"dataframe\">\n",
       "  <thead>\n",
       "    <tr style=\"text-align: right;\">\n",
       "      <th></th>\n",
       "      <th>Name</th>\n",
       "      <th>Type1</th>\n",
       "      <th>Type2</th>\n",
       "      <th>Image_Mat</th>\n",
       "    </tr>\n",
       "  </thead>\n",
       "  <tbody>\n",
       "    <tr>\n",
       "      <th>0</th>\n",
       "      <td>abomasnow</td>\n",
       "      <td>Grass</td>\n",
       "      <td>Ice</td>\n",
       "      <td>[[0, 0, 0], [0, 0, 0], [0, 0, 0], [0, 0, 0], [...</td>\n",
       "    </tr>\n",
       "    <tr>\n",
       "      <th>1</th>\n",
       "      <td>abra</td>\n",
       "      <td>Psychic</td>\n",
       "      <td>NaN</td>\n",
       "      <td>[[0, 0, 0], [0, 0, 0], [0, 0, 0], [0, 0, 0], [...</td>\n",
       "    </tr>\n",
       "    <tr>\n",
       "      <th>2</th>\n",
       "      <td>absol</td>\n",
       "      <td>Dark</td>\n",
       "      <td>NaN</td>\n",
       "      <td>[[0, 0, 0], [0, 0, 0], [0, 0, 0], [0, 0, 0], [...</td>\n",
       "    </tr>\n",
       "    <tr>\n",
       "      <th>3</th>\n",
       "      <td>accelgor</td>\n",
       "      <td>Bug</td>\n",
       "      <td>NaN</td>\n",
       "      <td>[[0, 0, 0], [0, 0, 0], [0, 0, 0], [0, 0, 0], [...</td>\n",
       "    </tr>\n",
       "    <tr>\n",
       "      <th>4</th>\n",
       "      <td>aegislash-blade</td>\n",
       "      <td>Steel</td>\n",
       "      <td>Ghost</td>\n",
       "      <td>[[0, 0, 0], [0, 0, 0], [0, 0, 0], [0, 0, 0], [...</td>\n",
       "    </tr>\n",
       "  </tbody>\n",
       "</table>\n",
       "</div>"
      ],
      "text/plain": [
       "              Name    Type1  Type2  \\\n",
       "0        abomasnow    Grass    Ice   \n",
       "1             abra  Psychic    NaN   \n",
       "2            absol     Dark    NaN   \n",
       "3         accelgor      Bug    NaN   \n",
       "4  aegislash-blade    Steel  Ghost   \n",
       "\n",
       "                                           Image_Mat  \n",
       "0  [[0, 0, 0], [0, 0, 0], [0, 0, 0], [0, 0, 0], [...  \n",
       "1  [[0, 0, 0], [0, 0, 0], [0, 0, 0], [0, 0, 0], [...  \n",
       "2  [[0, 0, 0], [0, 0, 0], [0, 0, 0], [0, 0, 0], [...  \n",
       "3  [[0, 0, 0], [0, 0, 0], [0, 0, 0], [0, 0, 0], [...  \n",
       "4  [[0, 0, 0], [0, 0, 0], [0, 0, 0], [0, 0, 0], [...  "
      ]
     },
     "execution_count": 8,
     "metadata": {},
     "output_type": "execute_result"
    }
   ],
   "source": [
    "pokemon_data.head(5)"
   ]
  },
  {
   "cell_type": "markdown",
   "id": "b19880e3",
   "metadata": {},
   "source": [
    "For each row of `pokemon_data`, a unique Pokemon is associated with it. Each Pokemon has four columns of data attached.\n",
    "- `Name`: the name of the Pokemon in lowercase\n",
    "- `Type1`: the primary type of the Pokemon\n",
    "- `Type2`: the secondary type of the Pokemon, can be NULL\n",
    "- `Image_Mat`: a tuple storing the RGB values of each pixel (top to bottom, left to right) in the 120x120 Pokemon image.\n",
    "    - RGB: a value from 0 to 255"
   ]
  },
  {
   "cell_type": "markdown",
   "id": "76c0411b",
   "metadata": {},
   "source": [
    "## Saving / Loading data"
   ]
  },
  {
   "cell_type": "code",
   "execution_count": 9,
   "id": "a3e9f4f4",
   "metadata": {},
   "outputs": [],
   "source": [
    "# Save our merged data into a file for easy access later on\n",
    "#with open('data.pickle', 'wb') as f:\n",
    "#    pickle.dump(pokemon_data, f)\n",
    "\n",
    "# Load our merged data into a python variable\n",
    "with open('data.pickle', 'rb') as f:\n",
    "    pokemon_data = pickle.load(f)"
   ]
  },
  {
   "cell_type": "markdown",
   "id": "39225d26",
   "metadata": {},
   "source": [
    "## Custom Functions"
   ]
  },
  {
   "cell_type": "code",
   "execution_count": 10,
   "id": "e1a16c7c",
   "metadata": {},
   "outputs": [],
   "source": [
    "# Function to view the image of the Pokemon\n",
    "def view_pokemon(val) :\n",
    "    print(\"Pokemon: \" + pokemon_data['Name'][val])\n",
    "    pkmn_reverted = np.reshape(pokemon_data['Image_Mat'][val], (120, 120, 3))\n",
    "    plt.imshow(pkmn_reverted)"
   ]
  },
  {
   "cell_type": "code",
   "execution_count": 14,
   "id": "6e8ee663",
   "metadata": {},
   "outputs": [],
   "source": [
    "# Function to find average RGB value of a Pokemon\n",
    "def rgb_pkmn(img_mat):\n",
    "    return np.mean(img_mat, axis = 0)"
   ]
  },
  {
   "cell_type": "markdown",
   "id": "2c1078a4",
   "metadata": {},
   "source": [
    "## Training"
   ]
  },
  {
   "cell_type": "code",
   "execution_count": 11,
   "id": "2e5cff6e",
   "metadata": {},
   "outputs": [],
   "source": [
    "# get the mean RGB values of all 809 Pokemon in the dataset\n",
    "mu_pkmn = []\n",
    "\n",
    "for i in pokemon_data['Image_Mat']:\n",
    "    mu_pkmn.append(rgb_pkmn(i)) # average rgba values"
   ]
  },
  {
   "cell_type": "code",
   "execution_count": 12,
   "id": "a0684185",
   "metadata": {},
   "outputs": [],
   "source": [
    "# select 18 random mus for each type cluster we have\n",
    "kn = 18 # we have 18 base types\n",
    "mu_k = random.choices(mu_pkmn, k = kn)"
   ]
  },
  {
   "cell_type": "code",
   "execution_count": 13,
   "id": "7257ea9f",
   "metadata": {},
   "outputs": [],
   "source": [
    "# split data into 80/20 training and testing data sets\n",
    "training_set = pokemon_data.sample(frac = 0.8, random_state = 500) # set seed to 500 for reproducible results\n",
    "test_set = pokemon_data.drop(training_set.index)"
   ]
  },
  {
   "cell_type": "code",
   "execution_count": null,
   "id": "83712dab",
   "metadata": {},
   "outputs": [],
   "source": []
  }
 ],
 "metadata": {
  "kernelspec": {
   "display_name": "Python 3 (clean)",
   "language": "python",
   "name": "python3_clean"
  },
  "language_info": {
   "codemirror_mode": {
    "name": "ipython",
    "version": 3
   },
   "file_extension": ".py",
   "mimetype": "text/x-python",
   "name": "python",
   "nbconvert_exporter": "python",
   "pygments_lexer": "ipython3",
   "version": "3.9.5"
  }
 },
 "nbformat": 4,
 "nbformat_minor": 5
}
